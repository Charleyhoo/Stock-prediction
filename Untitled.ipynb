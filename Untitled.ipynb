{
 "cells": [
  {
   "cell_type": "code",
   "execution_count": 1,
   "id": "1d8a8435",
   "metadata": {},
   "outputs": [
    {
     "name": "stderr",
     "output_type": "stream",
     "text": [
      "D:\\Python\\Anaconda\\install\\lib\\site-packages\\sklearn\\metrics\\_classification.py:1245: UndefinedMetricWarning: Precision is ill-defined and being set to 0.0 in labels with no predicted samples. Use `zero_division` parameter to control this behavior.\n",
      "  _warn_prf(average, modifier, msg_start, len(result))\n",
      "D:\\Python\\Anaconda\\install\\lib\\site-packages\\sklearn\\metrics\\_classification.py:1245: UndefinedMetricWarning: Recall is ill-defined and being set to 0.0 in labels with no true samples. Use `zero_division` parameter to control this behavior.\n",
      "  _warn_prf(average, modifier, msg_start, len(result))\n"
     ]
    },
    {
     "name": "stdout",
     "output_type": "stream",
     "text": [
      "pr= 0.0\n",
      "ac= 0.0\n",
      "re= 0.0\n",
      "f1= 0.0\n",
      "pr= 0.0106951871657754\n",
      "ac= 0.01680672268907563\n",
      "re= 0.008021390374331552\n",
      "f1= 0.0089126559714795\n"
     ]
    },
    {
     "name": "stderr",
     "output_type": "stream",
     "text": [
      "D:\\Python\\Anaconda\\install\\lib\\site-packages\\sklearn\\metrics\\_classification.py:1245: UndefinedMetricWarning: Precision is ill-defined and being set to 0.0 in labels with no predicted samples. Use `zero_division` parameter to control this behavior.\n",
      "  _warn_prf(average, modifier, msg_start, len(result))\n",
      "D:\\Python\\Anaconda\\install\\lib\\site-packages\\sklearn\\metrics\\_classification.py:1245: UndefinedMetricWarning: Recall is ill-defined and being set to 0.0 in labels with no true samples. Use `zero_division` parameter to control this behavior.\n",
      "  _warn_prf(average, modifier, msg_start, len(result))\n"
     ]
    }
   ],
   "source": [
    "import pandas as pd\n",
    "\n",
    "z23 = pd.read_csv(r'C:\\Users\\asus\\Desktop\\科研\\APPLE.csv')\n",
    "z23 = z23.rename(columns={'交易量': 'trade', '涨跌幅': 'upDown'})\n",
    "z23['trade'] = z23.trade.map(lambda x: x[:-1])\n",
    "z23['upDown'] = z23.upDown.map(lambda x: x[:-1])\n",
    "z23 = z23.rename(columns={'trade': '交易量', 'upDown': '涨跌幅'})\n",
    "# 打乱顺序\n",
    "from sklearn.utils import shuffle\n",
    "\n",
    "z23 = shuffle(z23)\n",
    "\n",
    "# 选特征\n",
    "from sklearn.preprocessing import MinMaxScaler\n",
    "\n",
    "X = z23[['收盘', '开盘', '高', '低', '交易量', '涨跌幅']].to_numpy()\n",
    "Y = z23['涨跌幅'].to_numpy()\n",
    "\n",
    "from sklearn.model_selection import train_test_split\n",
    "\n",
    "# 切分测试集训练集\n",
    "X_train, X_test, y_train, y_test = train_test_split(X, Y, test_size=0.33, random_state=42)\n",
    "# 标准化\n",
    "scaler = MinMaxScaler()\n",
    "scaler.fit(X_train)\n",
    "X_train, X_test = scaler.transform(X_train), scaler.transform(X_test)\n",
    "\n",
    "# 逻辑回归\n",
    "from sklearn.linear_model import LogisticRegression\n",
    "\n",
    "lr = LogisticRegression()\n",
    "lr.fit(X_train, y_train)\n",
    "y_pred = lr.predict(X_test)\n",
    "# 准确率，精确率（对的行/预测的行，不考虑反例），召回率（对的行/实际的行，不考虑反例），f1为精确率和召回率的综合（2PR)/(P+R)\n",
    "from sklearn.metrics import accuracy_score, precision_score, recall_score, f1_score\n",
    "\n",
    "print('pr=', precision_score(y_test, y_pred, average='macro'))\n",
    "print('ac=', accuracy_score(y_test, y_pred))\n",
    "print('re=', recall_score(y_test, y_pred, average='macro'))\n",
    "print('f1=', f1_score(y_test, y_pred, average='macro'))\n",
    "\n",
    "from sklearn.ensemble import RandomForestClassifier\n",
    "\n",
    "rf = RandomForestClassifier()\n",
    "rf.fit(X_train, y_train)\n",
    "y_pred = rf.predict(X_test)\n",
    "print('pr=', precision_score(y_test, y_pred, average='macro'))\n",
    "print('ac=', accuracy_score(y_test, y_pred))\n",
    "print('re=', recall_score(y_test, y_pred, average='macro'))\n",
    "print('f1=', f1_score(y_test, y_pred, average='macro'))\n"
   ]
  },
  {
   "cell_type": "code",
   "execution_count": null,
   "id": "ea887cc0",
   "metadata": {},
   "outputs": [],
   "source": []
  }
 ],
 "metadata": {
  "kernelspec": {
   "display_name": "Python 3",
   "language": "python",
   "name": "python3"
  },
  "language_info": {
   "codemirror_mode": {
    "name": "ipython",
    "version": 3
   },
   "file_extension": ".py",
   "mimetype": "text/x-python",
   "name": "python",
   "nbconvert_exporter": "python",
   "pygments_lexer": "ipython3",
   "version": "3.8.8"
  }
 },
 "nbformat": 4,
 "nbformat_minor": 5
}
