{
 "cells": [
  {
   "cell_type": "code",
   "execution_count": 150,
   "metadata": {
    "ExecuteTime": {
     "end_time": "2021-08-13T15:13:22.007967Z",
     "start_time": "2021-08-13T15:13:21.991014Z"
    }
   },
   "outputs": [],
   "source": [
    "import numpy as np\n",
    "import pandas as pd\n"
   ]
  },
  {
   "cell_type": "code",
   "execution_count": 151,
   "metadata": {
    "ExecuteTime": {
     "end_time": "2021-08-13T15:13:22.166544Z",
     "start_time": "2021-08-13T15:13:22.011972Z"
    }
   },
   "outputs": [],
   "source": [
    "import random\n",
    "random.seed(42)"
   ]
  },
  {
   "cell_type": "code",
   "execution_count": 152,
   "metadata": {
    "ExecuteTime": {
     "end_time": "2021-08-13T15:13:22.305220Z",
     "start_time": "2021-08-13T15:13:22.171531Z"
    }
   },
   "outputs": [
    {
     "data": {
      "text/html": [
       "<div>\n",
       "<style scoped>\n",
       "    .dataframe tbody tr th:only-of-type {\n",
       "        vertical-align: middle;\n",
       "    }\n",
       "\n",
       "    .dataframe tbody tr th {\n",
       "        vertical-align: top;\n",
       "    }\n",
       "\n",
       "    .dataframe thead th {\n",
       "        text-align: right;\n",
       "    }\n",
       "</style>\n",
       "<table border=\"1\" class=\"dataframe\">\n",
       "  <thead>\n",
       "    <tr style=\"text-align: right;\">\n",
       "      <th></th>\n",
       "      <th>Date</th>\n",
       "      <th>close</th>\n",
       "      <th>open</th>\n",
       "      <th>high</th>\n",
       "      <th>low</th>\n",
       "      <th>count</th>\n",
       "      <th>zhangdie</th>\n",
       "    </tr>\n",
       "  </thead>\n",
       "  <tbody>\n",
       "    <tr>\n",
       "      <th>0</th>\n",
       "      <td>2021年7月30日</td>\n",
       "      <td>145.86</td>\n",
       "      <td>144.38</td>\n",
       "      <td>146.33</td>\n",
       "      <td>144.11</td>\n",
       "      <td>70.44M</td>\n",
       "      <td>0.15%</td>\n",
       "    </tr>\n",
       "    <tr>\n",
       "      <th>1</th>\n",
       "      <td>2021年7月29日</td>\n",
       "      <td>145.64</td>\n",
       "      <td>144.67</td>\n",
       "      <td>146.54</td>\n",
       "      <td>144.63</td>\n",
       "      <td>56.70M</td>\n",
       "      <td>0.46%</td>\n",
       "    </tr>\n",
       "    <tr>\n",
       "      <th>2</th>\n",
       "      <td>2021年7月28日</td>\n",
       "      <td>144.98</td>\n",
       "      <td>144.79</td>\n",
       "      <td>146.92</td>\n",
       "      <td>142.62</td>\n",
       "      <td>118.93M</td>\n",
       "      <td>-1.22%</td>\n",
       "    </tr>\n",
       "    <tr>\n",
       "      <th>3</th>\n",
       "      <td>2021年7月27日</td>\n",
       "      <td>146.77</td>\n",
       "      <td>149.06</td>\n",
       "      <td>149.16</td>\n",
       "      <td>145.57</td>\n",
       "      <td>104.82M</td>\n",
       "      <td>-1.49%</td>\n",
       "    </tr>\n",
       "    <tr>\n",
       "      <th>4</th>\n",
       "      <td>2021年7月26日</td>\n",
       "      <td>148.99</td>\n",
       "      <td>148.25</td>\n",
       "      <td>149.82</td>\n",
       "      <td>147.75</td>\n",
       "      <td>72.43M</td>\n",
       "      <td>0.29%</td>\n",
       "    </tr>\n",
       "    <tr>\n",
       "      <th>...</th>\n",
       "      <td>...</td>\n",
       "      <td>...</td>\n",
       "      <td>...</td>\n",
       "      <td>...</td>\n",
       "      <td>...</td>\n",
       "      <td>...</td>\n",
       "      <td>...</td>\n",
       "    </tr>\n",
       "    <tr>\n",
       "      <th>353</th>\n",
       "      <td>2020年3月6日</td>\n",
       "      <td>72.26</td>\n",
       "      <td>70.50</td>\n",
       "      <td>72.71</td>\n",
       "      <td>70.31</td>\n",
       "      <td>226.18M</td>\n",
       "      <td>-1.33%</td>\n",
       "    </tr>\n",
       "    <tr>\n",
       "      <th>354</th>\n",
       "      <td>2020年3月5日</td>\n",
       "      <td>73.23</td>\n",
       "      <td>73.88</td>\n",
       "      <td>74.89</td>\n",
       "      <td>72.85</td>\n",
       "      <td>187.57M</td>\n",
       "      <td>-3.24%</td>\n",
       "    </tr>\n",
       "    <tr>\n",
       "      <th>355</th>\n",
       "      <td>2020年3月4日</td>\n",
       "      <td>75.68</td>\n",
       "      <td>74.11</td>\n",
       "      <td>75.85</td>\n",
       "      <td>73.28</td>\n",
       "      <td>219.18M</td>\n",
       "      <td>4.64%</td>\n",
       "    </tr>\n",
       "    <tr>\n",
       "      <th>356</th>\n",
       "      <td>2020年3月3日</td>\n",
       "      <td>72.33</td>\n",
       "      <td>75.92</td>\n",
       "      <td>76.00</td>\n",
       "      <td>71.45</td>\n",
       "      <td>319.48M</td>\n",
       "      <td>-3.18%</td>\n",
       "    </tr>\n",
       "    <tr>\n",
       "      <th>357</th>\n",
       "      <td>2020年3月2日</td>\n",
       "      <td>74.70</td>\n",
       "      <td>70.57</td>\n",
       "      <td>75.36</td>\n",
       "      <td>69.43</td>\n",
       "      <td>341.40M</td>\n",
       "      <td>9.31%</td>\n",
       "    </tr>\n",
       "  </tbody>\n",
       "</table>\n",
       "<p>358 rows × 7 columns</p>\n",
       "</div>"
      ],
      "text/plain": [
       "           Date   close    open    high     low    count zhangdie\n",
       "0    2021年7月30日  145.86  144.38  146.33  144.11   70.44M    0.15%\n",
       "1    2021年7月29日  145.64  144.67  146.54  144.63   56.70M    0.46%\n",
       "2    2021年7月28日  144.98  144.79  146.92  142.62  118.93M   -1.22%\n",
       "3    2021年7月27日  146.77  149.06  149.16  145.57  104.82M   -1.49%\n",
       "4    2021年7月26日  148.99  148.25  149.82  147.75   72.43M    0.29%\n",
       "..          ...     ...     ...     ...     ...      ...      ...\n",
       "353   2020年3月6日   72.26   70.50   72.71   70.31  226.18M   -1.33%\n",
       "354   2020年3月5日   73.23   73.88   74.89   72.85  187.57M   -3.24%\n",
       "355   2020年3月4日   75.68   74.11   75.85   73.28  219.18M    4.64%\n",
       "356   2020年3月3日   72.33   75.92   76.00   71.45  319.48M   -3.18%\n",
       "357   2020年3月2日   74.70   70.57   75.36   69.43  341.40M    9.31%\n",
       "\n",
       "[358 rows x 7 columns]"
      ]
     },
     "execution_count": 152,
     "metadata": {},
     "output_type": "execute_result"
    }
   ],
   "source": [
    "dataset = pd.read_csv('APPLE.csv',encoding='utf8')\n",
    "dataset "
   ]
  },
  {
   "cell_type": "code",
   "execution_count": 153,
   "metadata": {
    "ExecuteTime": {
     "end_time": "2021-08-13T15:13:22.507677Z",
     "start_time": "2021-08-13T15:13:22.310205Z"
    }
   },
   "outputs": [],
   "source": [
    "dataset = dataset.dropna()\n",
    "dataset = dataset[['open', 'high', 'low', 'close']]"
   ]
  },
  {
   "cell_type": "code",
   "execution_count": 154,
   "metadata": {
    "ExecuteTime": {
     "end_time": "2021-08-13T15:13:22.771970Z",
     "start_time": "2021-08-13T15:13:22.516656Z"
    }
   },
   "outputs": [],
   "source": [
    "import talib"
   ]
  },
  {
   "cell_type": "code",
   "execution_count": 155,
   "metadata": {
    "ExecuteTime": {
     "end_time": "2021-08-13T15:13:22.992385Z",
     "start_time": "2021-08-13T15:13:22.775959Z"
    }
   },
   "outputs": [],
   "source": [
    "dataset['H-L'] = dataset['high'] - dataset['low']\n",
    "dataset['O-C'] = dataset['close'] - dataset['open']\n",
    "dataset['3day MA'] = dataset['close'].shift(1).rolling(window = 3).mean()\n",
    "dataset['10day MA'] = dataset['close'].shift(1).rolling(window = 10).mean()\n",
    "dataset['30day MA'] = dataset['close'].shift(1).rolling(window = 30).mean()\n",
    "dataset['Std_dev']= dataset['close'].rolling(5).std()\n",
    "dataset['RSI'] = talib.RSI(dataset['close'].values, timeperiod = 9)\n",
    "dataset['Williams %R'] = talib.WILLR(dataset['high'].values, dataset['low'].values, dataset['close'].values, 7)"
   ]
  },
  {
   "cell_type": "code",
   "execution_count": 156,
   "metadata": {
    "ExecuteTime": {
     "end_time": "2021-08-13T15:13:23.197841Z",
     "start_time": "2021-08-13T15:13:23.001360Z"
    }
   },
   "outputs": [
    {
     "data": {
      "text/html": [
       "<div>\n",
       "<style scoped>\n",
       "    .dataframe tbody tr th:only-of-type {\n",
       "        vertical-align: middle;\n",
       "    }\n",
       "\n",
       "    .dataframe tbody tr th {\n",
       "        vertical-align: top;\n",
       "    }\n",
       "\n",
       "    .dataframe thead th {\n",
       "        text-align: right;\n",
       "    }\n",
       "</style>\n",
       "<table border=\"1\" class=\"dataframe\">\n",
       "  <thead>\n",
       "    <tr style=\"text-align: right;\">\n",
       "      <th></th>\n",
       "      <th>open</th>\n",
       "      <th>high</th>\n",
       "      <th>low</th>\n",
       "      <th>close</th>\n",
       "      <th>H-L</th>\n",
       "      <th>O-C</th>\n",
       "      <th>3day MA</th>\n",
       "      <th>10day MA</th>\n",
       "      <th>30day MA</th>\n",
       "      <th>Std_dev</th>\n",
       "      <th>RSI</th>\n",
       "      <th>Williams %R</th>\n",
       "    </tr>\n",
       "  </thead>\n",
       "  <tbody>\n",
       "    <tr>\n",
       "      <th>0</th>\n",
       "      <td>144.38</td>\n",
       "      <td>146.33</td>\n",
       "      <td>144.11</td>\n",
       "      <td>145.86</td>\n",
       "      <td>2.22</td>\n",
       "      <td>1.48</td>\n",
       "      <td>NaN</td>\n",
       "      <td>NaN</td>\n",
       "      <td>NaN</td>\n",
       "      <td>NaN</td>\n",
       "      <td>NaN</td>\n",
       "      <td>NaN</td>\n",
       "    </tr>\n",
       "    <tr>\n",
       "      <th>1</th>\n",
       "      <td>144.67</td>\n",
       "      <td>146.54</td>\n",
       "      <td>144.63</td>\n",
       "      <td>145.64</td>\n",
       "      <td>1.91</td>\n",
       "      <td>0.97</td>\n",
       "      <td>NaN</td>\n",
       "      <td>NaN</td>\n",
       "      <td>NaN</td>\n",
       "      <td>NaN</td>\n",
       "      <td>NaN</td>\n",
       "      <td>NaN</td>\n",
       "    </tr>\n",
       "    <tr>\n",
       "      <th>2</th>\n",
       "      <td>144.79</td>\n",
       "      <td>146.92</td>\n",
       "      <td>142.62</td>\n",
       "      <td>144.98</td>\n",
       "      <td>4.30</td>\n",
       "      <td>0.19</td>\n",
       "      <td>NaN</td>\n",
       "      <td>NaN</td>\n",
       "      <td>NaN</td>\n",
       "      <td>NaN</td>\n",
       "      <td>NaN</td>\n",
       "      <td>NaN</td>\n",
       "    </tr>\n",
       "    <tr>\n",
       "      <th>3</th>\n",
       "      <td>149.06</td>\n",
       "      <td>149.16</td>\n",
       "      <td>145.57</td>\n",
       "      <td>146.77</td>\n",
       "      <td>3.59</td>\n",
       "      <td>-2.29</td>\n",
       "      <td>145.493333</td>\n",
       "      <td>NaN</td>\n",
       "      <td>NaN</td>\n",
       "      <td>NaN</td>\n",
       "      <td>NaN</td>\n",
       "      <td>NaN</td>\n",
       "    </tr>\n",
       "    <tr>\n",
       "      <th>4</th>\n",
       "      <td>148.25</td>\n",
       "      <td>149.82</td>\n",
       "      <td>147.75</td>\n",
       "      <td>148.99</td>\n",
       "      <td>2.07</td>\n",
       "      <td>0.74</td>\n",
       "      <td>145.796667</td>\n",
       "      <td>NaN</td>\n",
       "      <td>NaN</td>\n",
       "      <td>1.558772</td>\n",
       "      <td>NaN</td>\n",
       "      <td>NaN</td>\n",
       "    </tr>\n",
       "    <tr>\n",
       "      <th>5</th>\n",
       "      <td>147.55</td>\n",
       "      <td>148.72</td>\n",
       "      <td>146.92</td>\n",
       "      <td>148.56</td>\n",
       "      <td>1.80</td>\n",
       "      <td>1.01</td>\n",
       "      <td>146.913333</td>\n",
       "      <td>NaN</td>\n",
       "      <td>NaN</td>\n",
       "      <td>1.758968</td>\n",
       "      <td>NaN</td>\n",
       "      <td>NaN</td>\n",
       "    </tr>\n",
       "    <tr>\n",
       "      <th>6</th>\n",
       "      <td>145.94</td>\n",
       "      <td>148.19</td>\n",
       "      <td>145.81</td>\n",
       "      <td>146.80</td>\n",
       "      <td>2.38</td>\n",
       "      <td>0.86</td>\n",
       "      <td>148.106667</td>\n",
       "      <td>NaN</td>\n",
       "      <td>NaN</td>\n",
       "      <td>1.606627</td>\n",
       "      <td>NaN</td>\n",
       "      <td>-41.944444</td>\n",
       "    </tr>\n",
       "    <tr>\n",
       "      <th>7</th>\n",
       "      <td>145.53</td>\n",
       "      <td>146.13</td>\n",
       "      <td>144.63</td>\n",
       "      <td>145.40</td>\n",
       "      <td>1.50</td>\n",
       "      <td>-0.13</td>\n",
       "      <td>148.116667</td>\n",
       "      <td>NaN</td>\n",
       "      <td>NaN</td>\n",
       "      <td>1.464968</td>\n",
       "      <td>NaN</td>\n",
       "      <td>-61.388889</td>\n",
       "    </tr>\n",
       "    <tr>\n",
       "      <th>8</th>\n",
       "      <td>143.46</td>\n",
       "      <td>147.10</td>\n",
       "      <td>142.96</td>\n",
       "      <td>146.15</td>\n",
       "      <td>4.14</td>\n",
       "      <td>2.69</td>\n",
       "      <td>146.920000</td>\n",
       "      <td>NaN</td>\n",
       "      <td>NaN</td>\n",
       "      <td>1.545493</td>\n",
       "      <td>NaN</td>\n",
       "      <td>-50.972222</td>\n",
       "    </tr>\n",
       "    <tr>\n",
       "      <th>9</th>\n",
       "      <td>143.75</td>\n",
       "      <td>144.07</td>\n",
       "      <td>141.67</td>\n",
       "      <td>142.45</td>\n",
       "      <td>2.40</td>\n",
       "      <td>-1.30</td>\n",
       "      <td>146.116667</td>\n",
       "      <td>NaN</td>\n",
       "      <td>NaN</td>\n",
       "      <td>2.241466</td>\n",
       "      <td>36.813612</td>\n",
       "      <td>-90.429448</td>\n",
       "    </tr>\n",
       "    <tr>\n",
       "      <th>10</th>\n",
       "      <td>148.46</td>\n",
       "      <td>149.76</td>\n",
       "      <td>145.88</td>\n",
       "      <td>146.39</td>\n",
       "      <td>3.88</td>\n",
       "      <td>-2.07</td>\n",
       "      <td>144.666667</td>\n",
       "      <td>146.160</td>\n",
       "      <td>NaN</td>\n",
       "      <td>1.746273</td>\n",
       "      <td>52.944564</td>\n",
       "      <td>-42.085890</td>\n",
       "    </tr>\n",
       "    <tr>\n",
       "      <th>11</th>\n",
       "      <td>149.25</td>\n",
       "      <td>149.98</td>\n",
       "      <td>147.10</td>\n",
       "      <td>148.48</td>\n",
       "      <td>2.88</td>\n",
       "      <td>-0.77</td>\n",
       "      <td>144.996667</td>\n",
       "      <td>146.213</td>\n",
       "      <td>NaN</td>\n",
       "      <td>2.181291</td>\n",
       "      <td>59.165632</td>\n",
       "      <td>-18.050542</td>\n",
       "    </tr>\n",
       "    <tr>\n",
       "      <th>12</th>\n",
       "      <td>148.00</td>\n",
       "      <td>149.57</td>\n",
       "      <td>147.70</td>\n",
       "      <td>149.15</td>\n",
       "      <td>1.87</td>\n",
       "      <td>1.15</td>\n",
       "      <td>145.773333</td>\n",
       "      <td>146.497</td>\n",
       "      <td>NaN</td>\n",
       "      <td>2.620931</td>\n",
       "      <td>61.024007</td>\n",
       "      <td>-9.987966</td>\n",
       "    </tr>\n",
       "    <tr>\n",
       "      <th>13</th>\n",
       "      <td>143.70</td>\n",
       "      <td>147.46</td>\n",
       "      <td>143.70</td>\n",
       "      <td>145.64</td>\n",
       "      <td>3.76</td>\n",
       "      <td>1.94</td>\n",
       "      <td>148.006667</td>\n",
       "      <td>146.914</td>\n",
       "      <td>NaN</td>\n",
       "      <td>2.648900</td>\n",
       "      <td>48.117812</td>\n",
       "      <td>-52.226233</td>\n",
       "    </tr>\n",
       "    <tr>\n",
       "      <th>14</th>\n",
       "      <td>146.22</td>\n",
       "      <td>146.22</td>\n",
       "      <td>144.04</td>\n",
       "      <td>144.50</td>\n",
       "      <td>2.18</td>\n",
       "      <td>-1.72</td>\n",
       "      <td>147.756667</td>\n",
       "      <td>146.801</td>\n",
       "      <td>NaN</td>\n",
       "      <td>1.945731</td>\n",
       "      <td>44.666165</td>\n",
       "      <td>-65.944645</td>\n",
       "    </tr>\n",
       "    <tr>\n",
       "      <th>15</th>\n",
       "      <td>142.75</td>\n",
       "      <td>145.65</td>\n",
       "      <td>142.65</td>\n",
       "      <td>145.11</td>\n",
       "      <td>3.00</td>\n",
       "      <td>2.36</td>\n",
       "      <td>146.430000</td>\n",
       "      <td>146.352</td>\n",
       "      <td>NaN</td>\n",
       "      <td>2.096767</td>\n",
       "      <td>46.956658</td>\n",
       "      <td>-58.604091</td>\n",
       "    </tr>\n",
       "    <tr>\n",
       "      <th>16</th>\n",
       "      <td>141.49</td>\n",
       "      <td>144.05</td>\n",
       "      <td>140.69</td>\n",
       "      <td>143.24</td>\n",
       "      <td>3.36</td>\n",
       "      <td>1.75</td>\n",
       "      <td>145.083333</td>\n",
       "      <td>146.007</td>\n",
       "      <td>NaN</td>\n",
       "      <td>2.213475</td>\n",
       "      <td>41.090616</td>\n",
       "      <td>-72.551130</td>\n",
       "    </tr>\n",
       "    <tr>\n",
       "      <th>17</th>\n",
       "      <td>143.58</td>\n",
       "      <td>144.88</td>\n",
       "      <td>142.74</td>\n",
       "      <td>144.57</td>\n",
       "      <td>2.14</td>\n",
       "      <td>0.99</td>\n",
       "      <td>144.283333</td>\n",
       "      <td>145.651</td>\n",
       "      <td>NaN</td>\n",
       "      <td>0.894634</td>\n",
       "      <td>46.443891</td>\n",
       "      <td>-58.234661</td>\n",
       "    </tr>\n",
       "    <tr>\n",
       "      <th>18</th>\n",
       "      <td>140.17</td>\n",
       "      <td>143.11</td>\n",
       "      <td>140.15</td>\n",
       "      <td>142.02</td>\n",
       "      <td>2.96</td>\n",
       "      <td>1.85</td>\n",
       "      <td>144.306667</td>\n",
       "      <td>145.568</td>\n",
       "      <td>NaN</td>\n",
       "      <td>1.249228</td>\n",
       "      <td>38.832391</td>\n",
       "      <td>-80.148620</td>\n",
       "    </tr>\n",
       "    <tr>\n",
       "      <th>19</th>\n",
       "      <td>137.90</td>\n",
       "      <td>140.00</td>\n",
       "      <td>137.74</td>\n",
       "      <td>139.96</td>\n",
       "      <td>2.26</td>\n",
       "      <td>2.06</td>\n",
       "      <td>143.276667</td>\n",
       "      <td>145.155</td>\n",
       "      <td>NaN</td>\n",
       "      <td>2.072112</td>\n",
       "      <td>33.798351</td>\n",
       "      <td>-77.160494</td>\n",
       "    </tr>\n",
       "  </tbody>\n",
       "</table>\n",
       "</div>"
      ],
      "text/plain": [
       "      open    high     low   close   H-L   O-C     3day MA  10day MA  \\\n",
       "0   144.38  146.33  144.11  145.86  2.22  1.48         NaN       NaN   \n",
       "1   144.67  146.54  144.63  145.64  1.91  0.97         NaN       NaN   \n",
       "2   144.79  146.92  142.62  144.98  4.30  0.19         NaN       NaN   \n",
       "3   149.06  149.16  145.57  146.77  3.59 -2.29  145.493333       NaN   \n",
       "4   148.25  149.82  147.75  148.99  2.07  0.74  145.796667       NaN   \n",
       "5   147.55  148.72  146.92  148.56  1.80  1.01  146.913333       NaN   \n",
       "6   145.94  148.19  145.81  146.80  2.38  0.86  148.106667       NaN   \n",
       "7   145.53  146.13  144.63  145.40  1.50 -0.13  148.116667       NaN   \n",
       "8   143.46  147.10  142.96  146.15  4.14  2.69  146.920000       NaN   \n",
       "9   143.75  144.07  141.67  142.45  2.40 -1.30  146.116667       NaN   \n",
       "10  148.46  149.76  145.88  146.39  3.88 -2.07  144.666667   146.160   \n",
       "11  149.25  149.98  147.10  148.48  2.88 -0.77  144.996667   146.213   \n",
       "12  148.00  149.57  147.70  149.15  1.87  1.15  145.773333   146.497   \n",
       "13  143.70  147.46  143.70  145.64  3.76  1.94  148.006667   146.914   \n",
       "14  146.22  146.22  144.04  144.50  2.18 -1.72  147.756667   146.801   \n",
       "15  142.75  145.65  142.65  145.11  3.00  2.36  146.430000   146.352   \n",
       "16  141.49  144.05  140.69  143.24  3.36  1.75  145.083333   146.007   \n",
       "17  143.58  144.88  142.74  144.57  2.14  0.99  144.283333   145.651   \n",
       "18  140.17  143.11  140.15  142.02  2.96  1.85  144.306667   145.568   \n",
       "19  137.90  140.00  137.74  139.96  2.26  2.06  143.276667   145.155   \n",
       "\n",
       "    30day MA   Std_dev        RSI  Williams %R  \n",
       "0        NaN       NaN        NaN          NaN  \n",
       "1        NaN       NaN        NaN          NaN  \n",
       "2        NaN       NaN        NaN          NaN  \n",
       "3        NaN       NaN        NaN          NaN  \n",
       "4        NaN  1.558772        NaN          NaN  \n",
       "5        NaN  1.758968        NaN          NaN  \n",
       "6        NaN  1.606627        NaN   -41.944444  \n",
       "7        NaN  1.464968        NaN   -61.388889  \n",
       "8        NaN  1.545493        NaN   -50.972222  \n",
       "9        NaN  2.241466  36.813612   -90.429448  \n",
       "10       NaN  1.746273  52.944564   -42.085890  \n",
       "11       NaN  2.181291  59.165632   -18.050542  \n",
       "12       NaN  2.620931  61.024007    -9.987966  \n",
       "13       NaN  2.648900  48.117812   -52.226233  \n",
       "14       NaN  1.945731  44.666165   -65.944645  \n",
       "15       NaN  2.096767  46.956658   -58.604091  \n",
       "16       NaN  2.213475  41.090616   -72.551130  \n",
       "17       NaN  0.894634  46.443891   -58.234661  \n",
       "18       NaN  1.249228  38.832391   -80.148620  \n",
       "19       NaN  2.072112  33.798351   -77.160494  "
      ]
     },
     "execution_count": 156,
     "metadata": {},
     "output_type": "execute_result"
    }
   ],
   "source": [
    "dataset.head(20)"
   ]
  },
  {
   "cell_type": "code",
   "execution_count": 157,
   "metadata": {
    "ExecuteTime": {
     "end_time": "2021-08-13T15:13:23.306546Z",
     "start_time": "2021-08-13T15:13:23.203817Z"
    }
   },
   "outputs": [],
   "source": [
    "dataset['Price_Rise'] = np.where(dataset['close'].shift(-1) > dataset['close'], 1, 0)"
   ]
  },
  {
   "cell_type": "code",
   "execution_count": 158,
   "metadata": {
    "ExecuteTime": {
     "end_time": "2021-08-13T15:13:23.467112Z",
     "start_time": "2021-08-13T15:13:23.316516Z"
    }
   },
   "outputs": [],
   "source": [
    "dataset = dataset.dropna()"
   ]
  },
  {
   "cell_type": "code",
   "execution_count": 159,
   "metadata": {
    "ExecuteTime": {
     "end_time": "2021-08-13T15:13:23.561859Z",
     "start_time": "2021-08-13T15:13:23.478083Z"
    }
   },
   "outputs": [
    {
     "data": {
      "text/html": [
       "<div>\n",
       "<style scoped>\n",
       "    .dataframe tbody tr th:only-of-type {\n",
       "        vertical-align: middle;\n",
       "    }\n",
       "\n",
       "    .dataframe tbody tr th {\n",
       "        vertical-align: top;\n",
       "    }\n",
       "\n",
       "    .dataframe thead th {\n",
       "        text-align: right;\n",
       "    }\n",
       "</style>\n",
       "<table border=\"1\" class=\"dataframe\">\n",
       "  <thead>\n",
       "    <tr style=\"text-align: right;\">\n",
       "      <th></th>\n",
       "      <th>open</th>\n",
       "      <th>high</th>\n",
       "      <th>low</th>\n",
       "      <th>close</th>\n",
       "      <th>H-L</th>\n",
       "      <th>O-C</th>\n",
       "      <th>3day MA</th>\n",
       "      <th>10day MA</th>\n",
       "      <th>30day MA</th>\n",
       "      <th>Std_dev</th>\n",
       "      <th>RSI</th>\n",
       "      <th>Williams %R</th>\n",
       "      <th>Price_Rise</th>\n",
       "    </tr>\n",
       "  </thead>\n",
       "  <tbody>\n",
       "    <tr>\n",
       "      <th>30</th>\n",
       "      <td>129.94</td>\n",
       "      <td>132.54</td>\n",
       "      <td>129.66</td>\n",
       "      <td>131.79</td>\n",
       "      <td>2.88</td>\n",
       "      <td>1.85</td>\n",
       "      <td>132.246667</td>\n",
       "      <td>134.230</td>\n",
       "      <td>141.765333</td>\n",
       "      <td>1.442352</td>\n",
       "      <td>28.170832</td>\n",
       "      <td>-51.320755</td>\n",
       "      <td>0</td>\n",
       "    </tr>\n",
       "    <tr>\n",
       "      <th>31</th>\n",
       "      <td>130.26</td>\n",
       "      <td>130.89</td>\n",
       "      <td>128.49</td>\n",
       "      <td>130.15</td>\n",
       "      <td>2.40</td>\n",
       "      <td>-0.11</td>\n",
       "      <td>131.516667</td>\n",
       "      <td>133.682</td>\n",
       "      <td>141.296333</td>\n",
       "      <td>1.541113</td>\n",
       "      <td>24.381616</td>\n",
       "      <td>-72.425249</td>\n",
       "      <td>0</td>\n",
       "    </tr>\n",
       "    <tr>\n",
       "      <th>32</th>\n",
       "      <td>130.07</td>\n",
       "      <td>130.59</td>\n",
       "      <td>129.41</td>\n",
       "      <td>129.64</td>\n",
       "      <td>1.18</td>\n",
       "      <td>-0.43</td>\n",
       "      <td>130.800000</td>\n",
       "      <td>133.001</td>\n",
       "      <td>140.780000</td>\n",
       "      <td>1.128127</td>\n",
       "      <td>23.285843</td>\n",
       "      <td>-80.240550</td>\n",
       "      <td>1</td>\n",
       "    </tr>\n",
       "    <tr>\n",
       "      <th>33</th>\n",
       "      <td>127.70</td>\n",
       "      <td>130.48</td>\n",
       "      <td>127.10</td>\n",
       "      <td>130.48</td>\n",
       "      <td>3.38</td>\n",
       "      <td>2.78</td>\n",
       "      <td>130.526667</td>\n",
       "      <td>132.332</td>\n",
       "      <td>140.268667</td>\n",
       "      <td>0.795003</td>\n",
       "      <td>29.183182</td>\n",
       "      <td>-51.575931</td>\n",
       "      <td>0</td>\n",
       "    </tr>\n",
       "    <tr>\n",
       "      <th>34</th>\n",
       "      <td>126.53</td>\n",
       "      <td>127.44</td>\n",
       "      <td>126.10</td>\n",
       "      <td>127.35</td>\n",
       "      <td>1.34</td>\n",
       "      <td>0.82</td>\n",
       "      <td>130.090000</td>\n",
       "      <td>131.902</td>\n",
       "      <td>139.725667</td>\n",
       "      <td>1.623228</td>\n",
       "      <td>22.070786</td>\n",
       "      <td>-80.590062</td>\n",
       "      <td>0</td>\n",
       "    </tr>\n",
       "  </tbody>\n",
       "</table>\n",
       "</div>"
      ],
      "text/plain": [
       "      open    high     low   close   H-L   O-C     3day MA  10day MA  \\\n",
       "30  129.94  132.54  129.66  131.79  2.88  1.85  132.246667   134.230   \n",
       "31  130.26  130.89  128.49  130.15  2.40 -0.11  131.516667   133.682   \n",
       "32  130.07  130.59  129.41  129.64  1.18 -0.43  130.800000   133.001   \n",
       "33  127.70  130.48  127.10  130.48  3.38  2.78  130.526667   132.332   \n",
       "34  126.53  127.44  126.10  127.35  1.34  0.82  130.090000   131.902   \n",
       "\n",
       "      30day MA   Std_dev        RSI  Williams %R  Price_Rise  \n",
       "30  141.765333  1.442352  28.170832   -51.320755           0  \n",
       "31  141.296333  1.541113  24.381616   -72.425249           0  \n",
       "32  140.780000  1.128127  23.285843   -80.240550           1  \n",
       "33  140.268667  0.795003  29.183182   -51.575931           0  \n",
       "34  139.725667  1.623228  22.070786   -80.590062           0  "
      ]
     },
     "execution_count": 159,
     "metadata": {},
     "output_type": "execute_result"
    }
   ],
   "source": [
    "dataset.head(5)"
   ]
  },
  {
   "cell_type": "code",
   "execution_count": 160,
   "metadata": {
    "ExecuteTime": {
     "end_time": "2021-08-13T15:13:23.732403Z",
     "start_time": "2021-08-13T15:13:23.569850Z"
    }
   },
   "outputs": [
    {
     "data": {
      "text/plain": [
       "(328, 13)"
      ]
     },
     "execution_count": 160,
     "metadata": {},
     "output_type": "execute_result"
    }
   ],
   "source": [
    "dataset.shape"
   ]
  },
  {
   "cell_type": "code",
   "execution_count": 161,
   "metadata": {
    "ExecuteTime": {
     "end_time": "2021-08-13T15:13:23.875037Z",
     "start_time": "2021-08-13T15:13:23.740383Z"
    }
   },
   "outputs": [],
   "source": [
    "X = dataset.iloc[:, 4:-1]\n",
    "y = dataset.iloc[:, -1]"
   ]
  },
  {
   "cell_type": "code",
   "execution_count": 162,
   "metadata": {
    "ExecuteTime": {
     "end_time": "2021-08-13T15:13:24.033612Z",
     "start_time": "2021-08-13T15:13:23.883018Z"
    }
   },
   "outputs": [
    {
     "data": {
      "text/html": [
       "<div>\n",
       "<style scoped>\n",
       "    .dataframe tbody tr th:only-of-type {\n",
       "        vertical-align: middle;\n",
       "    }\n",
       "\n",
       "    .dataframe tbody tr th {\n",
       "        vertical-align: top;\n",
       "    }\n",
       "\n",
       "    .dataframe thead th {\n",
       "        text-align: right;\n",
       "    }\n",
       "</style>\n",
       "<table border=\"1\" class=\"dataframe\">\n",
       "  <thead>\n",
       "    <tr style=\"text-align: right;\">\n",
       "      <th></th>\n",
       "      <th>H-L</th>\n",
       "      <th>O-C</th>\n",
       "      <th>3day MA</th>\n",
       "      <th>10day MA</th>\n",
       "      <th>30day MA</th>\n",
       "      <th>Std_dev</th>\n",
       "      <th>RSI</th>\n",
       "      <th>Williams %R</th>\n",
       "    </tr>\n",
       "  </thead>\n",
       "  <tbody>\n",
       "    <tr>\n",
       "      <th>30</th>\n",
       "      <td>2.88</td>\n",
       "      <td>1.85</td>\n",
       "      <td>132.246667</td>\n",
       "      <td>134.230</td>\n",
       "      <td>141.765333</td>\n",
       "      <td>1.442352</td>\n",
       "      <td>28.170832</td>\n",
       "      <td>-51.320755</td>\n",
       "    </tr>\n",
       "    <tr>\n",
       "      <th>31</th>\n",
       "      <td>2.40</td>\n",
       "      <td>-0.11</td>\n",
       "      <td>131.516667</td>\n",
       "      <td>133.682</td>\n",
       "      <td>141.296333</td>\n",
       "      <td>1.541113</td>\n",
       "      <td>24.381616</td>\n",
       "      <td>-72.425249</td>\n",
       "    </tr>\n",
       "    <tr>\n",
       "      <th>32</th>\n",
       "      <td>1.18</td>\n",
       "      <td>-0.43</td>\n",
       "      <td>130.800000</td>\n",
       "      <td>133.001</td>\n",
       "      <td>140.780000</td>\n",
       "      <td>1.128127</td>\n",
       "      <td>23.285843</td>\n",
       "      <td>-80.240550</td>\n",
       "    </tr>\n",
       "    <tr>\n",
       "      <th>33</th>\n",
       "      <td>3.38</td>\n",
       "      <td>2.78</td>\n",
       "      <td>130.526667</td>\n",
       "      <td>132.332</td>\n",
       "      <td>140.268667</td>\n",
       "      <td>0.795003</td>\n",
       "      <td>29.183182</td>\n",
       "      <td>-51.575931</td>\n",
       "    </tr>\n",
       "    <tr>\n",
       "      <th>34</th>\n",
       "      <td>1.34</td>\n",
       "      <td>0.82</td>\n",
       "      <td>130.090000</td>\n",
       "      <td>131.902</td>\n",
       "      <td>139.725667</td>\n",
       "      <td>1.623228</td>\n",
       "      <td>22.070786</td>\n",
       "      <td>-80.590062</td>\n",
       "    </tr>\n",
       "    <tr>\n",
       "      <th>...</th>\n",
       "      <td>...</td>\n",
       "      <td>...</td>\n",
       "      <td>...</td>\n",
       "      <td>...</td>\n",
       "      <td>...</td>\n",
       "      <td>...</td>\n",
       "      <td>...</td>\n",
       "      <td>...</td>\n",
       "    </tr>\n",
       "    <tr>\n",
       "      <th>353</th>\n",
       "      <td>2.40</td>\n",
       "      <td>1.76</td>\n",
       "      <td>68.910000</td>\n",
       "      <td>64.222</td>\n",
       "      <td>64.794000</td>\n",
       "      <td>4.097890</td>\n",
       "      <td>60.463496</td>\n",
       "      <td>-3.540519</td>\n",
       "    </tr>\n",
       "    <tr>\n",
       "      <th>354</th>\n",
       "      <td>2.04</td>\n",
       "      <td>-0.65</td>\n",
       "      <td>70.043333</td>\n",
       "      <td>65.717</td>\n",
       "      <td>64.895000</td>\n",
       "      <td>2.720061</td>\n",
       "      <td>61.643239</td>\n",
       "      <td>-12.878200</td>\n",
       "    </tr>\n",
       "    <tr>\n",
       "      <th>355</th>\n",
       "      <td>2.57</td>\n",
       "      <td>1.57</td>\n",
       "      <td>70.676667</td>\n",
       "      <td>66.921</td>\n",
       "      <td>64.979333</td>\n",
       "      <td>3.361513</td>\n",
       "      <td>64.641246</td>\n",
       "      <td>-1.227437</td>\n",
       "    </tr>\n",
       "    <tr>\n",
       "      <th>356</th>\n",
       "      <td>4.55</td>\n",
       "      <td>-3.59</td>\n",
       "      <td>73.723333</td>\n",
       "      <td>68.322</td>\n",
       "      <td>65.113000</td>\n",
       "      <td>3.355707</td>\n",
       "      <td>57.703417</td>\n",
       "      <td>-35.804878</td>\n",
       "    </tr>\n",
       "    <tr>\n",
       "      <th>357</th>\n",
       "      <td>5.93</td>\n",
       "      <td>4.13</td>\n",
       "      <td>73.746667</td>\n",
       "      <td>69.233</td>\n",
       "      <td>65.153667</td>\n",
       "      <td>1.506137</td>\n",
       "      <td>61.032132</td>\n",
       "      <td>-12.682927</td>\n",
       "    </tr>\n",
       "  </tbody>\n",
       "</table>\n",
       "<p>328 rows × 8 columns</p>\n",
       "</div>"
      ],
      "text/plain": [
       "      H-L   O-C     3day MA  10day MA    30day MA   Std_dev        RSI  \\\n",
       "30   2.88  1.85  132.246667   134.230  141.765333  1.442352  28.170832   \n",
       "31   2.40 -0.11  131.516667   133.682  141.296333  1.541113  24.381616   \n",
       "32   1.18 -0.43  130.800000   133.001  140.780000  1.128127  23.285843   \n",
       "33   3.38  2.78  130.526667   132.332  140.268667  0.795003  29.183182   \n",
       "34   1.34  0.82  130.090000   131.902  139.725667  1.623228  22.070786   \n",
       "..    ...   ...         ...       ...         ...       ...        ...   \n",
       "353  2.40  1.76   68.910000    64.222   64.794000  4.097890  60.463496   \n",
       "354  2.04 -0.65   70.043333    65.717   64.895000  2.720061  61.643239   \n",
       "355  2.57  1.57   70.676667    66.921   64.979333  3.361513  64.641246   \n",
       "356  4.55 -3.59   73.723333    68.322   65.113000  3.355707  57.703417   \n",
       "357  5.93  4.13   73.746667    69.233   65.153667  1.506137  61.032132   \n",
       "\n",
       "     Williams %R  \n",
       "30    -51.320755  \n",
       "31    -72.425249  \n",
       "32    -80.240550  \n",
       "33    -51.575931  \n",
       "34    -80.590062  \n",
       "..           ...  \n",
       "353    -3.540519  \n",
       "354   -12.878200  \n",
       "355    -1.227437  \n",
       "356   -35.804878  \n",
       "357   -12.682927  \n",
       "\n",
       "[328 rows x 8 columns]"
      ]
     },
     "execution_count": 162,
     "metadata": {},
     "output_type": "execute_result"
    }
   ],
   "source": [
    "X"
   ]
  },
  {
   "cell_type": "code",
   "execution_count": 163,
   "metadata": {
    "ExecuteTime": {
     "end_time": "2021-08-13T15:13:24.145319Z",
     "start_time": "2021-08-13T15:13:24.036602Z"
    }
   },
   "outputs": [
    {
     "data": {
      "text/plain": [
       "30     0\n",
       "31     0\n",
       "32     1\n",
       "33     0\n",
       "34     0\n",
       "      ..\n",
       "353    1\n",
       "354    1\n",
       "355    0\n",
       "356    1\n",
       "357    0\n",
       "Name: Price_Rise, Length: 328, dtype: int32"
      ]
     },
     "execution_count": 163,
     "metadata": {},
     "output_type": "execute_result"
    }
   ],
   "source": [
    "y"
   ]
  },
  {
   "cell_type": "code",
   "execution_count": 164,
   "metadata": {
    "ExecuteTime": {
     "end_time": "2021-08-13T15:13:24.253075Z",
     "start_time": "2021-08-13T15:13:24.150299Z"
    }
   },
   "outputs": [],
   "source": [
    "split = int(len(dataset)*0.7)\n",
    "X_train, X_test, y_train, y_test = X[:split], X[split:], y[:split], y[split:]"
   ]
  },
  {
   "cell_type": "code",
   "execution_count": 165,
   "metadata": {
    "ExecuteTime": {
     "end_time": "2021-08-13T15:13:24.379683Z",
     "start_time": "2021-08-13T15:13:24.257016Z"
    }
   },
   "outputs": [],
   "source": [
    "from sklearn.preprocessing import StandardScaler\n",
    "sc = StandardScaler()\n",
    "X_train = sc.fit_transform(X_train)\n",
    "X_test = sc.transform(X_test)"
   ]
  },
  {
   "cell_type": "code",
   "execution_count": 166,
   "metadata": {
    "ExecuteTime": {
     "end_time": "2021-08-13T15:13:24.475680Z",
     "start_time": "2021-08-13T15:13:24.385648Z"
    }
   },
   "outputs": [
    {
     "data": {
      "text/plain": [
       "(229, 8)"
      ]
     },
     "execution_count": 166,
     "metadata": {},
     "output_type": "execute_result"
    }
   ],
   "source": [
    "X_train.shape"
   ]
  },
  {
   "cell_type": "code",
   "execution_count": 167,
   "metadata": {
    "ExecuteTime": {
     "end_time": "2021-08-13T15:13:24.616344Z",
     "start_time": "2021-08-13T15:13:24.478700Z"
    }
   },
   "outputs": [
    {
     "data": {
      "text/plain": [
       "(99, 8)"
      ]
     },
     "execution_count": 167,
     "metadata": {},
     "output_type": "execute_result"
    }
   ],
   "source": [
    "X_test.shape"
   ]
  },
  {
   "cell_type": "code",
   "execution_count": 168,
   "metadata": {
    "ExecuteTime": {
     "end_time": "2021-08-13T15:13:24.727729Z",
     "start_time": "2021-08-13T15:13:24.620294Z"
    }
   },
   "outputs": [],
   "source": [
    "from keras.models import Sequential\n",
    "from keras.layers import Dense\n",
    "from keras.layers import Dropout"
   ]
  },
  {
   "cell_type": "code",
   "execution_count": 169,
   "metadata": {
    "ExecuteTime": {
     "end_time": "2021-08-13T15:13:24.853359Z",
     "start_time": "2021-08-13T15:13:24.730687Z"
    }
   },
   "outputs": [],
   "source": [
    "classifier = Sequential()"
   ]
  },
  {
   "cell_type": "code",
   "execution_count": 170,
   "metadata": {
    "ExecuteTime": {
     "end_time": "2021-08-13T15:13:24.980141Z",
     "start_time": "2021-08-13T15:13:24.857347Z"
    }
   },
   "outputs": [],
   "source": [
    "classifier.add(Dense(units = 128, kernel_initializer = 'uniform', activation = 'relu', input_dim = X.shape[1]))"
   ]
  },
  {
   "cell_type": "code",
   "execution_count": 171,
   "metadata": {
    "ExecuteTime": {
     "end_time": "2021-08-13T15:13:25.107803Z",
     "start_time": "2021-08-13T15:13:24.983099Z"
    }
   },
   "outputs": [],
   "source": [
    "classifier.add(Dense(units = 128, kernel_initializer = 'uniform', activation = 'relu'))"
   ]
  },
  {
   "cell_type": "code",
   "execution_count": 172,
   "metadata": {
    "ExecuteTime": {
     "end_time": "2021-08-13T15:13:25.218674Z",
     "start_time": "2021-08-13T15:13:25.114749Z"
    }
   },
   "outputs": [],
   "source": [
    "classifier.add(Dense(units = 1, kernel_initializer = 'uniform', activation = 'sigmoid'))"
   ]
  },
  {
   "cell_type": "code",
   "execution_count": 173,
   "metadata": {
    "ExecuteTime": {
     "end_time": "2021-08-13T15:13:25.345526Z",
     "start_time": "2021-08-13T15:13:25.222662Z"
    }
   },
   "outputs": [],
   "source": [
    "classifier.compile(optimizer = 'adam', loss = 'mean_squared_error', metrics = ['accuracy'])"
   ]
  },
  {
   "cell_type": "code",
   "execution_count": 174,
   "metadata": {
    "ExecuteTime": {
     "end_time": "2021-08-13T15:13:28.294648Z",
     "start_time": "2021-08-13T15:13:25.348520Z"
    }
   },
   "outputs": [
    {
     "name": "stdout",
     "output_type": "stream",
     "text": [
      "Epoch 1/50\n",
      "23/23 [==============================] - 0s 2ms/step - loss: 0.2451 - accuracy: 0.6681\n",
      "Epoch 2/50\n",
      "23/23 [==============================] - 0s 2ms/step - loss: 0.2099 - accuracy: 0.8210\n",
      "Epoch 3/50\n",
      "23/23 [==============================] - 0s 2ms/step - loss: 0.1500 - accuracy: 0.7991\n",
      "Epoch 4/50\n",
      "23/23 [==============================] - 0s 2ms/step - loss: 0.1283 - accuracy: 0.8384\n",
      "Epoch 5/50\n",
      "23/23 [==============================] - 0s 2ms/step - loss: 0.1206 - accuracy: 0.8472\n",
      "Epoch 6/50\n",
      "23/23 [==============================] - 0s 2ms/step - loss: 0.1188 - accuracy: 0.8341\n",
      "Epoch 7/50\n",
      "23/23 [==============================] - 0s 2ms/step - loss: 0.1171 - accuracy: 0.8384\n",
      "Epoch 8/50\n",
      "23/23 [==============================] - 0s 2ms/step - loss: 0.1152 - accuracy: 0.8515\n",
      "Epoch 9/50\n",
      "23/23 [==============================] - 0s 1ms/step - loss: 0.1161 - accuracy: 0.8472\n",
      "Epoch 10/50\n",
      "23/23 [==============================] - 0s 1ms/step - loss: 0.1144 - accuracy: 0.8603\n",
      "Epoch 11/50\n",
      "23/23 [==============================] - 0s 1ms/step - loss: 0.1149 - accuracy: 0.8384\n",
      "Epoch 12/50\n",
      "23/23 [==============================] - 0s 1ms/step - loss: 0.1138 - accuracy: 0.8559\n",
      "Epoch 13/50\n",
      "23/23 [==============================] - 0s 1ms/step - loss: 0.1125 - accuracy: 0.8515\n",
      "Epoch 14/50\n",
      "23/23 [==============================] - 0s 1ms/step - loss: 0.1138 - accuracy: 0.8384\n",
      "Epoch 15/50\n",
      "23/23 [==============================] - 0s 1ms/step - loss: 0.1108 - accuracy: 0.8515\n",
      "Epoch 16/50\n",
      "23/23 [==============================] - 0s 2ms/step - loss: 0.1095 - accuracy: 0.8559\n",
      "Epoch 17/50\n",
      "23/23 [==============================] - 0s 3ms/step - loss: 0.1081 - accuracy: 0.8603\n",
      "Epoch 18/50\n",
      "23/23 [==============================] - 0s 3ms/step - loss: 0.1083 - accuracy: 0.8646\n",
      "Epoch 19/50\n",
      "23/23 [==============================] - 0s 2ms/step - loss: 0.1099 - accuracy: 0.8603\n",
      "Epoch 20/50\n",
      "23/23 [==============================] - 0s 1ms/step - loss: 0.1088 - accuracy: 0.8472\n",
      "Epoch 21/50\n",
      "23/23 [==============================] - 0s 2ms/step - loss: 0.1085 - accuracy: 0.8690\n",
      "Epoch 22/50\n",
      "23/23 [==============================] - 0s 1ms/step - loss: 0.1099 - accuracy: 0.8690\n",
      "Epoch 23/50\n",
      "23/23 [==============================] - 0s 2ms/step - loss: 0.1085 - accuracy: 0.8472\n",
      "Epoch 24/50\n",
      "23/23 [==============================] - 0s 1ms/step - loss: 0.1072 - accuracy: 0.8603\n",
      "Epoch 25/50\n",
      "23/23 [==============================] - 0s 1ms/step - loss: 0.1047 - accuracy: 0.8734\n",
      "Epoch 26/50\n",
      "23/23 [==============================] - 0s 1ms/step - loss: 0.1054 - accuracy: 0.8472\n",
      "Epoch 27/50\n",
      "23/23 [==============================] - 0s 1ms/step - loss: 0.1051 - accuracy: 0.8559\n",
      "Epoch 28/50\n",
      "23/23 [==============================] - 0s 1ms/step - loss: 0.1040 - accuracy: 0.8690\n",
      "Epoch 29/50\n",
      "23/23 [==============================] - 0s 1ms/step - loss: 0.1035 - accuracy: 0.8690\n",
      "Epoch 30/50\n",
      "23/23 [==============================] - 0s 1ms/step - loss: 0.1035 - accuracy: 0.8690\n",
      "Epoch 31/50\n",
      "23/23 [==============================] - 0s 1ms/step - loss: 0.1024 - accuracy: 0.8646\n",
      "Epoch 32/50\n",
      "23/23 [==============================] - 0s 1ms/step - loss: 0.1023 - accuracy: 0.8777\n",
      "Epoch 33/50\n",
      "23/23 [==============================] - 0s 1ms/step - loss: 0.1016 - accuracy: 0.8646\n",
      "Epoch 34/50\n",
      "23/23 [==============================] - 0s 1ms/step - loss: 0.1008 - accuracy: 0.8777\n",
      "Epoch 35/50\n",
      "23/23 [==============================] - 0s 1ms/step - loss: 0.1008 - accuracy: 0.8646\n",
      "Epoch 36/50\n",
      "23/23 [==============================] - 0s 1ms/step - loss: 0.1025 - accuracy: 0.8646\n",
      "Epoch 37/50\n",
      "23/23 [==============================] - 0s 1ms/step - loss: 0.1024 - accuracy: 0.8646\n",
      "Epoch 38/50\n",
      "23/23 [==============================] - 0s 1ms/step - loss: 0.1005 - accuracy: 0.8646\n",
      "Epoch 39/50\n",
      "23/23 [==============================] - 0s 1ms/step - loss: 0.1017 - accuracy: 0.8646\n",
      "Epoch 40/50\n",
      "23/23 [==============================] - 0s 1ms/step - loss: 0.0974 - accuracy: 0.8821\n",
      "Epoch 41/50\n",
      "23/23 [==============================] - 0s 1ms/step - loss: 0.0971 - accuracy: 0.8777\n",
      "Epoch 42/50\n",
      "23/23 [==============================] - 0s 1ms/step - loss: 0.0961 - accuracy: 0.8821\n",
      "Epoch 43/50\n",
      "23/23 [==============================] - 0s 3ms/step - loss: 0.0954 - accuracy: 0.8777\n",
      "Epoch 44/50\n",
      "23/23 [==============================] - 0s 8ms/step - loss: 0.0953 - accuracy: 0.8777\n",
      "Epoch 45/50\n",
      "23/23 [==============================] - 0s 2ms/step - loss: 0.0952 - accuracy: 0.8777\n",
      "Epoch 46/50\n",
      "23/23 [==============================] - 0s 1ms/step - loss: 0.0935 - accuracy: 0.8821\n",
      "Epoch 47/50\n",
      "23/23 [==============================] - 0s 1ms/step - loss: 0.0916 - accuracy: 0.8865\n",
      "Epoch 48/50\n",
      "23/23 [==============================] - 0s 1ms/step - loss: 0.0934 - accuracy: 0.8821\n",
      "Epoch 49/50\n",
      "23/23 [==============================] - 0s 1ms/step - loss: 0.0904 - accuracy: 0.8865\n",
      "Epoch 50/50\n",
      "23/23 [==============================] - 0s 1ms/step - loss: 0.0942 - accuracy: 0.8603\n"
     ]
    },
    {
     "data": {
      "text/plain": [
       "<tensorflow.python.keras.callbacks.History at 0x1bf5d473ca0>"
      ]
     },
     "execution_count": 174,
     "metadata": {},
     "output_type": "execute_result"
    }
   ],
   "source": [
    "classifier.fit(X_train, y_train, batch_size = 10, epochs = 50)"
   ]
  },
  {
   "cell_type": "code",
   "execution_count": 175,
   "metadata": {
    "ExecuteTime": {
     "end_time": "2021-08-13T15:13:28.670642Z",
     "start_time": "2021-08-13T15:13:28.301624Z"
    }
   },
   "outputs": [],
   "source": [
    "y_pred = classifier.predict(X_test)"
   ]
  },
  {
   "cell_type": "code",
   "execution_count": 176,
   "metadata": {
    "ExecuteTime": {
     "end_time": "2021-08-13T15:13:28.702558Z",
     "start_time": "2021-08-13T15:13:28.675625Z"
    }
   },
   "outputs": [
    {
     "data": {
      "text/plain": [
       "array([[False],\n",
       "       [False],\n",
       "       [False],\n",
       "       [False],\n",
       "       [False],\n",
       "       [False],\n",
       "       [ True],\n",
       "       [False],\n",
       "       [False],\n",
       "       [False],\n",
       "       [False],\n",
       "       [False],\n",
       "       [False],\n",
       "       [False],\n",
       "       [False],\n",
       "       [False],\n",
       "       [ True],\n",
       "       [False],\n",
       "       [False],\n",
       "       [False],\n",
       "       [False],\n",
       "       [False],\n",
       "       [False],\n",
       "       [False],\n",
       "       [False],\n",
       "       [False],\n",
       "       [False],\n",
       "       [ True],\n",
       "       [False],\n",
       "       [False],\n",
       "       [False],\n",
       "       [False],\n",
       "       [False],\n",
       "       [False],\n",
       "       [False],\n",
       "       [False],\n",
       "       [False],\n",
       "       [False],\n",
       "       [False],\n",
       "       [False],\n",
       "       [False],\n",
       "       [False],\n",
       "       [False],\n",
       "       [False],\n",
       "       [False],\n",
       "       [False],\n",
       "       [False],\n",
       "       [False],\n",
       "       [False],\n",
       "       [False],\n",
       "       [False],\n",
       "       [False],\n",
       "       [False],\n",
       "       [False],\n",
       "       [False],\n",
       "       [False],\n",
       "       [False],\n",
       "       [False],\n",
       "       [False],\n",
       "       [False],\n",
       "       [False],\n",
       "       [False],\n",
       "       [False],\n",
       "       [False],\n",
       "       [False],\n",
       "       [False],\n",
       "       [False],\n",
       "       [False],\n",
       "       [False],\n",
       "       [False],\n",
       "       [False],\n",
       "       [False],\n",
       "       [False],\n",
       "       [False],\n",
       "       [False],\n",
       "       [False],\n",
       "       [False],\n",
       "       [False],\n",
       "       [False],\n",
       "       [False],\n",
       "       [False],\n",
       "       [False],\n",
       "       [False],\n",
       "       [False],\n",
       "       [False],\n",
       "       [False],\n",
       "       [False],\n",
       "       [False],\n",
       "       [False],\n",
       "       [False],\n",
       "       [False],\n",
       "       [False],\n",
       "       [False],\n",
       "       [False],\n",
       "       [False],\n",
       "       [False],\n",
       "       [False],\n",
       "       [False],\n",
       "       [False]])"
      ]
     },
     "execution_count": 176,
     "metadata": {},
     "output_type": "execute_result"
    }
   ],
   "source": [
    "y_pred = (y_pred > 0.5)\n",
    "y_pred"
   ]
  },
  {
   "cell_type": "code",
   "execution_count": 177,
   "metadata": {
    "ExecuteTime": {
     "end_time": "2021-08-13T15:13:28.895609Z",
     "start_time": "2021-08-13T15:13:28.711530Z"
    }
   },
   "outputs": [],
   "source": [
    "dataset['y_pred'] = np.NaN\n",
    "dataset.iloc[(len(dataset) - len(y_pred)):,-1] = y_pred\n",
    "trade_dataset = dataset.dropna()"
   ]
  },
  {
   "cell_type": "code",
   "execution_count": 1,
   "metadata": {
    "ExecuteTime": {
     "end_time": "2021-08-13T15:13:29.065987Z",
     "start_time": "2021-08-13T15:13:28.901593Z"
    }
   },
   "outputs": [
    {
     "ename": "NameError",
     "evalue": "name 'trade_dataset' is not defined",
     "output_type": "error",
     "traceback": [
      "\u001b[1;31m---------------------------------------------------------------------------\u001b[0m",
      "\u001b[1;31mNameError\u001b[0m                                 Traceback (most recent call last)",
      "\u001b[1;32m<ipython-input-1-25a8323e0caa>\u001b[0m in \u001b[0;36m<module>\u001b[1;34m\u001b[0m\n\u001b[1;32m----> 1\u001b[1;33m \u001b[0mtrade_dataset\u001b[0m\u001b[1;33m\u001b[0m\u001b[1;33m\u001b[0m\u001b[0m\n\u001b[0m",
      "\u001b[1;31mNameError\u001b[0m: name 'trade_dataset' is not defined"
     ]
    }
   ],
   "source": [
    "trade_dataset"
   ]
  },
  {
   "cell_type": "code",
   "execution_count": 179,
   "metadata": {
    "ExecuteTime": {
     "end_time": "2021-08-13T15:13:29.210637Z",
     "start_time": "2021-08-13T15:13:29.077954Z"
    }
   },
   "outputs": [
    {
     "name": "stderr",
     "output_type": "stream",
     "text": [
      "<ipython-input-179-52d0b1845e40>:1: SettingWithCopyWarning: \n",
      "A value is trying to be set on a copy of a slice from a DataFrame.\n",
      "Try using .loc[row_indexer,col_indexer] = value instead\n",
      "\n",
      "See the caveats in the documentation: https://pandas.pydata.org/pandas-docs/stable/user_guide/indexing.html#returning-a-view-versus-a-copy\n",
      "  trade_dataset['Tomorrows Returns'] = 0.\n",
      "<ipython-input-179-52d0b1845e40>:2: SettingWithCopyWarning: \n",
      "A value is trying to be set on a copy of a slice from a DataFrame.\n",
      "Try using .loc[row_indexer,col_indexer] = value instead\n",
      "\n",
      "See the caveats in the documentation: https://pandas.pydata.org/pandas-docs/stable/user_guide/indexing.html#returning-a-view-versus-a-copy\n",
      "  trade_dataset['Tomorrows Returns'] = np.log(trade_dataset['close']/trade_dataset['close'].shift(1))\n",
      "<ipython-input-179-52d0b1845e40>:3: SettingWithCopyWarning: \n",
      "A value is trying to be set on a copy of a slice from a DataFrame.\n",
      "Try using .loc[row_indexer,col_indexer] = value instead\n",
      "\n",
      "See the caveats in the documentation: https://pandas.pydata.org/pandas-docs/stable/user_guide/indexing.html#returning-a-view-versus-a-copy\n",
      "  trade_dataset['Tomorrows Returns'] = trade_dataset['Tomorrows Returns'].shift(-1)\n"
     ]
    }
   ],
   "source": [
    "trade_dataset['Tomorrows Returns'] = 0.\n",
    "trade_dataset['Tomorrows Returns'] = np.log(trade_dataset['close']/trade_dataset['close'].shift(1))\n",
    "trade_dataset['Tomorrows Returns'] = trade_dataset['Tomorrows Returns'].shift(-1)\n"
   ]
  },
  {
   "cell_type": "code",
   "execution_count": 180,
   "metadata": {
    "ExecuteTime": {
     "end_time": "2021-08-13T15:13:29.415164Z",
     "start_time": "2021-08-13T15:13:29.215624Z"
    }
   },
   "outputs": [
    {
     "name": "stderr",
     "output_type": "stream",
     "text": [
      "<ipython-input-180-c8d278af7601>:1: SettingWithCopyWarning: \n",
      "A value is trying to be set on a copy of a slice from a DataFrame.\n",
      "Try using .loc[row_indexer,col_indexer] = value instead\n",
      "\n",
      "See the caveats in the documentation: https://pandas.pydata.org/pandas-docs/stable/user_guide/indexing.html#returning-a-view-versus-a-copy\n",
      "  trade_dataset['Strategy Returns'] = 0.\n",
      "<ipython-input-180-c8d278af7601>:2: SettingWithCopyWarning: \n",
      "A value is trying to be set on a copy of a slice from a DataFrame.\n",
      "Try using .loc[row_indexer,col_indexer] = value instead\n",
      "\n",
      "See the caveats in the documentation: https://pandas.pydata.org/pandas-docs/stable/user_guide/indexing.html#returning-a-view-versus-a-copy\n",
      "  trade_dataset['Strategy Returns'] = np.where(trade_dataset['y_pred'] == True, trade_dataset['Tomorrows Returns'], - trade_dataset['Tomorrows Returns'])\n"
     ]
    }
   ],
   "source": [
    "trade_dataset['Strategy Returns'] = 0.\n",
    "trade_dataset['Strategy Returns'] = np.where(trade_dataset['y_pred'] == True, trade_dataset['Tomorrows Returns'], - trade_dataset['Tomorrows Returns'])"
   ]
  },
  {
   "cell_type": "code",
   "execution_count": 184,
   "metadata": {
    "ExecuteTime": {
     "end_time": "2021-08-13T15:21:36.001174Z",
     "start_time": "2021-08-13T15:21:35.979232Z"
    }
   },
   "outputs": [
    {
     "name": "stderr",
     "output_type": "stream",
     "text": [
      "<ipython-input-184-ab5c8423ce24>:1: SettingWithCopyWarning: \n",
      "A value is trying to be set on a copy of a slice from a DataFrame.\n",
      "Try using .loc[row_indexer,col_indexer] = value instead\n",
      "\n",
      "See the caveats in the documentation: https://pandas.pydata.org/pandas-docs/stable/user_guide/indexing.html#returning-a-view-versus-a-copy\n",
      "  trade_dataset['Cumulative Market Returns'] = np.cumsum(abs(trade_dataset['Tomorrows Returns']))\n",
      "<ipython-input-184-ab5c8423ce24>:2: SettingWithCopyWarning: \n",
      "A value is trying to be set on a copy of a slice from a DataFrame.\n",
      "Try using .loc[row_indexer,col_indexer] = value instead\n",
      "\n",
      "See the caveats in the documentation: https://pandas.pydata.org/pandas-docs/stable/user_guide/indexing.html#returning-a-view-versus-a-copy\n",
      "  trade_dataset['Cumulative Strategy Returns'] = np.cumsum(trade_dataset['Strategy Returns'])\n"
     ]
    }
   ],
   "source": [
    "trade_dataset['Cumulative Market Returns'] = np.cumsum(abs(trade_dataset['Tomorrows Returns']))\n",
    "trade_dataset['Cumulative Strategy Returns'] = np.cumsum(trade_dataset['Strategy Returns'])\n"
   ]
  },
  {
   "cell_type": "code",
   "execution_count": 185,
   "metadata": {
    "ExecuteTime": {
     "end_time": "2021-08-13T15:21:40.849784Z",
     "start_time": "2021-08-13T15:21:40.808845Z"
    }
   },
   "outputs": [
    {
     "data": {
      "text/html": [
       "<div>\n",
       "<style scoped>\n",
       "    .dataframe tbody tr th:only-of-type {\n",
       "        vertical-align: middle;\n",
       "    }\n",
       "\n",
       "    .dataframe tbody tr th {\n",
       "        vertical-align: top;\n",
       "    }\n",
       "\n",
       "    .dataframe thead th {\n",
       "        text-align: right;\n",
       "    }\n",
       "</style>\n",
       "<table border=\"1\" class=\"dataframe\">\n",
       "  <thead>\n",
       "    <tr style=\"text-align: right;\">\n",
       "      <th></th>\n",
       "      <th>open</th>\n",
       "      <th>high</th>\n",
       "      <th>low</th>\n",
       "      <th>close</th>\n",
       "      <th>H-L</th>\n",
       "      <th>O-C</th>\n",
       "      <th>3day MA</th>\n",
       "      <th>10day MA</th>\n",
       "      <th>30day MA</th>\n",
       "      <th>Std_dev</th>\n",
       "      <th>RSI</th>\n",
       "      <th>Williams %R</th>\n",
       "      <th>Price_Rise</th>\n",
       "      <th>y_pred</th>\n",
       "      <th>Tomorrows Returns</th>\n",
       "      <th>Strategy Returns</th>\n",
       "      <th>Cumulative Market Returns</th>\n",
       "      <th>Cumulative Strategy Returns</th>\n",
       "    </tr>\n",
       "  </thead>\n",
       "  <tbody>\n",
       "    <tr>\n",
       "      <th>259</th>\n",
       "      <td>99.17</td>\n",
       "      <td>99.25</td>\n",
       "      <td>96.74</td>\n",
       "      <td>97.00</td>\n",
       "      <td>2.51</td>\n",
       "      <td>-2.17</td>\n",
       "      <td>94.243333</td>\n",
       "      <td>98.689</td>\n",
       "      <td>112.192333</td>\n",
       "      <td>2.206880</td>\n",
       "      <td>35.983782</td>\n",
       "      <td>-22.255193</td>\n",
       "      <td>1</td>\n",
       "      <td>False</td>\n",
       "      <td>0.013923</td>\n",
       "      <td>-0.013923</td>\n",
       "      <td>0.013923</td>\n",
       "      <td>-0.013923</td>\n",
       "    </tr>\n",
       "    <tr>\n",
       "      <th>260</th>\n",
       "      <td>96.42</td>\n",
       "      <td>98.50</td>\n",
       "      <td>96.06</td>\n",
       "      <td>98.36</td>\n",
       "      <td>2.44</td>\n",
       "      <td>1.94</td>\n",
       "      <td>95.706667</td>\n",
       "      <td>97.422</td>\n",
       "      <td>110.953000</td>\n",
       "      <td>2.686423</td>\n",
       "      <td>40.446844</td>\n",
       "      <td>-8.803165</td>\n",
       "      <td>0</td>\n",
       "      <td>False</td>\n",
       "      <td>-0.020854</td>\n",
       "      <td>0.020854</td>\n",
       "      <td>0.034778</td>\n",
       "      <td>0.006931</td>\n",
       "    </tr>\n",
       "    <tr>\n",
       "      <th>261</th>\n",
       "      <td>96.99</td>\n",
       "      <td>97.15</td>\n",
       "      <td>95.84</td>\n",
       "      <td>96.33</td>\n",
       "      <td>1.31</td>\n",
       "      <td>-0.66</td>\n",
       "      <td>97.543333</td>\n",
       "      <td>96.364</td>\n",
       "      <td>109.930333</td>\n",
       "      <td>2.095154</td>\n",
       "      <td>36.207916</td>\n",
       "      <td>-28.882295</td>\n",
       "      <td>1</td>\n",
       "      <td>False</td>\n",
       "      <td>0.001970</td>\n",
       "      <td>-0.001970</td>\n",
       "      <td>0.036748</td>\n",
       "      <td>0.004961</td>\n",
       "    </tr>\n",
       "    <tr>\n",
       "      <th>262</th>\n",
       "      <td>96.56</td>\n",
       "      <td>97.40</td>\n",
       "      <td>95.90</td>\n",
       "      <td>96.52</td>\n",
       "      <td>1.50</td>\n",
       "      <td>-0.04</td>\n",
       "      <td>97.230000</td>\n",
       "      <td>95.371</td>\n",
       "      <td>108.981000</td>\n",
       "      <td>0.799331</td>\n",
       "      <td>36.904192</td>\n",
       "      <td>-27.002967</td>\n",
       "      <td>1</td>\n",
       "      <td>False</td>\n",
       "      <td>0.012356</td>\n",
       "      <td>-0.012356</td>\n",
       "      <td>0.049104</td>\n",
       "      <td>-0.007395</td>\n",
       "    </tr>\n",
       "    <tr>\n",
       "      <th>263</th>\n",
       "      <td>98.99</td>\n",
       "      <td>99.25</td>\n",
       "      <td>96.49</td>\n",
       "      <td>97.72</td>\n",
       "      <td>2.76</td>\n",
       "      <td>-1.27</td>\n",
       "      <td>97.070000</td>\n",
       "      <td>95.404</td>\n",
       "      <td>108.031333</td>\n",
       "      <td>0.847691</td>\n",
       "      <td>41.445255</td>\n",
       "      <td>-21.132597</td>\n",
       "      <td>0</td>\n",
       "      <td>False</td>\n",
       "      <td>-0.006777</td>\n",
       "      <td>0.006777</td>\n",
       "      <td>0.055881</td>\n",
       "      <td>-0.000618</td>\n",
       "    </tr>\n",
       "    <tr>\n",
       "      <th>264</th>\n",
       "      <td>94.84</td>\n",
       "      <td>97.25</td>\n",
       "      <td>93.88</td>\n",
       "      <td>97.06</td>\n",
       "      <td>3.37</td>\n",
       "      <td>2.22</td>\n",
       "      <td>96.856667</td>\n",
       "      <td>95.672</td>\n",
       "      <td>107.071333</td>\n",
       "      <td>0.844820</td>\n",
       "      <td>39.678301</td>\n",
       "      <td>-40.782123</td>\n",
       "      <td>0</td>\n",
       "      <td>False</td>\n",
       "      <td>-0.016413</td>\n",
       "      <td>0.016413</td>\n",
       "      <td>0.072294</td>\n",
       "      <td>0.015794</td>\n",
       "    </tr>\n",
       "    <tr>\n",
       "      <th>265</th>\n",
       "      <td>97.26</td>\n",
       "      <td>99.96</td>\n",
       "      <td>95.26</td>\n",
       "      <td>95.48</td>\n",
       "      <td>4.70</td>\n",
       "      <td>-1.78</td>\n",
       "      <td>97.100000</td>\n",
       "      <td>96.053</td>\n",
       "      <td>106.146000</td>\n",
       "      <td>0.836254</td>\n",
       "      <td>35.591678</td>\n",
       "      <td>-73.684211</td>\n",
       "      <td>1</td>\n",
       "      <td>True</td>\n",
       "      <td>0.004598</td>\n",
       "      <td>0.004598</td>\n",
       "      <td>0.076891</td>\n",
       "      <td>0.020392</td>\n",
       "    </tr>\n",
       "    <tr>\n",
       "      <th>266</th>\n",
       "      <td>95.33</td>\n",
       "      <td>95.98</td>\n",
       "      <td>94.71</td>\n",
       "      <td>95.92</td>\n",
       "      <td>1.27</td>\n",
       "      <td>0.59</td>\n",
       "      <td>96.753333</td>\n",
       "      <td>96.120</td>\n",
       "      <td>105.133333</td>\n",
       "      <td>0.890393</td>\n",
       "      <td>37.604983</td>\n",
       "      <td>-66.447368</td>\n",
       "      <td>0</td>\n",
       "      <td>False</td>\n",
       "      <td>-0.002505</td>\n",
       "      <td>0.002505</td>\n",
       "      <td>0.079396</td>\n",
       "      <td>0.022897</td>\n",
       "    </tr>\n",
       "    <tr>\n",
       "      <th>267</th>\n",
       "      <td>96.26</td>\n",
       "      <td>96.32</td>\n",
       "      <td>94.67</td>\n",
       "      <td>95.68</td>\n",
       "      <td>1.65</td>\n",
       "      <td>-0.58</td>\n",
       "      <td>96.153333</td>\n",
       "      <td>96.451</td>\n",
       "      <td>104.185000</td>\n",
       "      <td>0.970732</td>\n",
       "      <td>36.897245</td>\n",
       "      <td>-70.394737</td>\n",
       "      <td>0</td>\n",
       "      <td>False</td>\n",
       "      <td>-0.003560</td>\n",
       "      <td>0.003560</td>\n",
       "      <td>0.082956</td>\n",
       "      <td>0.026457</td>\n",
       "    </tr>\n",
       "    <tr>\n",
       "      <th>268</th>\n",
       "      <td>94.18</td>\n",
       "      <td>95.38</td>\n",
       "      <td>94.09</td>\n",
       "      <td>95.34</td>\n",
       "      <td>1.29</td>\n",
       "      <td>1.16</td>\n",
       "      <td>95.693333</td>\n",
       "      <td>96.734</td>\n",
       "      <td>103.431667</td>\n",
       "      <td>0.686353</td>\n",
       "      <td>35.822745</td>\n",
       "      <td>-75.986842</td>\n",
       "      <td>0</td>\n",
       "      <td>False</td>\n",
       "      <td>-0.023024</td>\n",
       "      <td>0.023024</td>\n",
       "      <td>0.105980</td>\n",
       "      <td>0.049481</td>\n",
       "    </tr>\n",
       "  </tbody>\n",
       "</table>\n",
       "</div>"
      ],
      "text/plain": [
       "      open   high    low  close   H-L   O-C    3day MA  10day MA    30day MA  \\\n",
       "259  99.17  99.25  96.74  97.00  2.51 -2.17  94.243333    98.689  112.192333   \n",
       "260  96.42  98.50  96.06  98.36  2.44  1.94  95.706667    97.422  110.953000   \n",
       "261  96.99  97.15  95.84  96.33  1.31 -0.66  97.543333    96.364  109.930333   \n",
       "262  96.56  97.40  95.90  96.52  1.50 -0.04  97.230000    95.371  108.981000   \n",
       "263  98.99  99.25  96.49  97.72  2.76 -1.27  97.070000    95.404  108.031333   \n",
       "264  94.84  97.25  93.88  97.06  3.37  2.22  96.856667    95.672  107.071333   \n",
       "265  97.26  99.96  95.26  95.48  4.70 -1.78  97.100000    96.053  106.146000   \n",
       "266  95.33  95.98  94.71  95.92  1.27  0.59  96.753333    96.120  105.133333   \n",
       "267  96.26  96.32  94.67  95.68  1.65 -0.58  96.153333    96.451  104.185000   \n",
       "268  94.18  95.38  94.09  95.34  1.29  1.16  95.693333    96.734  103.431667   \n",
       "\n",
       "      Std_dev        RSI  Williams %R  Price_Rise y_pred  Tomorrows Returns  \\\n",
       "259  2.206880  35.983782   -22.255193           1  False           0.013923   \n",
       "260  2.686423  40.446844    -8.803165           0  False          -0.020854   \n",
       "261  2.095154  36.207916   -28.882295           1  False           0.001970   \n",
       "262  0.799331  36.904192   -27.002967           1  False           0.012356   \n",
       "263  0.847691  41.445255   -21.132597           0  False          -0.006777   \n",
       "264  0.844820  39.678301   -40.782123           0  False          -0.016413   \n",
       "265  0.836254  35.591678   -73.684211           1   True           0.004598   \n",
       "266  0.890393  37.604983   -66.447368           0  False          -0.002505   \n",
       "267  0.970732  36.897245   -70.394737           0  False          -0.003560   \n",
       "268  0.686353  35.822745   -75.986842           0  False          -0.023024   \n",
       "\n",
       "     Strategy Returns  Cumulative Market Returns  Cumulative Strategy Returns  \n",
       "259         -0.013923                   0.013923                    -0.013923  \n",
       "260          0.020854                   0.034778                     0.006931  \n",
       "261         -0.001970                   0.036748                     0.004961  \n",
       "262         -0.012356                   0.049104                    -0.007395  \n",
       "263          0.006777                   0.055881                    -0.000618  \n",
       "264          0.016413                   0.072294                     0.015794  \n",
       "265          0.004598                   0.076891                     0.020392  \n",
       "266          0.002505                   0.079396                     0.022897  \n",
       "267          0.003560                   0.082956                     0.026457  \n",
       "268          0.023024                   0.105980                     0.049481  "
      ]
     },
     "execution_count": 185,
     "metadata": {},
     "output_type": "execute_result"
    }
   ],
   "source": [
    "trade_dataset.head(10)"
   ]
  },
  {
   "cell_type": "code",
   "execution_count": 187,
   "metadata": {
    "ExecuteTime": {
     "end_time": "2021-08-13T15:21:52.353990Z",
     "start_time": "2021-08-13T15:21:52.039674Z"
    }
   },
   "outputs": [
    {
     "data": {
      "image/png": "[encoded data removed]",
      "text/plain": [
       "<Figure size 1152x720 with 1 Axes>"
      ]
     },
     "metadata": {
      "needs_background": "light"
     },
     "output_type": "display_data"
    }
   ],
   "source": [
    "import matplotlib.pyplot as plt\n",
    "plt.figure(figsize=(16,10))\n",
    "plt.plot(trade_dataset['Cumulative Market Returns'], color='r', label='Market Returns')\n",
    "plt.plot(trade_dataset['Cumulative Strategy Returns'], color='g', label='Strategy Returns')\n",
    "plt.legend()\n",
    "plt.show()\n"
   ]
  },
  {
   "cell_type": "code",
   "execution_count": null,
   "metadata": {},
   "outputs": [],
   "source": []
  }
 ],
 "metadata": {
  "kernelspec": {
   "display_name": "Python 3",
   "language": "python",
   "name": "python3"
  },
  "language_info": {
   "codemirror_mode": {
    "name": "ipython",
    "version": 3
   },
   "file_extension": ".py",
   "mimetype": "text/x-python",
   "name": "python",
   "nbconvert_exporter": "python",
   "pygments_lexer": "ipython3",
   "version": "3.8.8"
  }
 },
 "nbformat": 4,
 "nbformat_minor": 4
}
