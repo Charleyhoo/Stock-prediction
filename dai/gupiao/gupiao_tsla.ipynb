{
 "cells": [
  {
   "cell_type": "code",
   "execution_count": 1,
   "metadata": {
    "ExecuteTime": {
     "end_time": "2021-08-13T15:09:51.161280Z",
     "start_time": "2021-08-13T15:09:50.449097Z"
    }
   },
   "outputs": [],
   "source": [
    "import numpy as np\n",
    "import pandas as pd\n",
    "\n",
    "import random\n",
    "random.seed(42)\n",
    "# 导入需要的库"
   ]
  },
  {
   "cell_type": "code",
   "execution_count": 3,
   "metadata": {
    "ExecuteTime": {
     "end_time": "2021-08-13T15:13:38.396945Z",
     "start_time": "2021-08-13T15:13:38.353063Z"
    }
   },
   "outputs": [
    {
     "data": {
      "text/html": [
       "<div>\n",
       "<style scoped>\n",
       "    .dataframe tbody tr th:only-of-type {\n",
       "        vertical-align: middle;\n",
       "    }\n",
       "\n",
       "    .dataframe tbody tr th {\n",
       "        vertical-align: top;\n",
       "    }\n",
       "\n",
       "    .dataframe thead th {\n",
       "        text-align: right;\n",
       "    }\n",
       "</style>\n",
       "<table border=\"1\" class=\"dataframe\">\n",
       "  <thead>\n",
       "    <tr style=\"text-align: right;\">\n",
       "      <th></th>\n",
       "      <th>Date</th>\n",
       "      <th>Close</th>\n",
       "      <th>Open</th>\n",
       "      <th>High</th>\n",
       "      <th>Low</th>\n",
       "      <th>count</th>\n",
       "      <th>zhangdie</th>\n",
       "    </tr>\n",
       "  </thead>\n",
       "  <tbody>\n",
       "    <tr>\n",
       "      <th>0</th>\n",
       "      <td>2021年7月30日</td>\n",
       "      <td>687.20</td>\n",
       "      <td>671.76</td>\n",
       "      <td>697.53</td>\n",
       "      <td>669.00</td>\n",
       "      <td>29.66M</td>\n",
       "      <td>1.45%</td>\n",
       "    </tr>\n",
       "    <tr>\n",
       "      <th>1</th>\n",
       "      <td>2021年7月29日</td>\n",
       "      <td>677.35</td>\n",
       "      <td>649.60</td>\n",
       "      <td>683.47</td>\n",
       "      <td>649.40</td>\n",
       "      <td>30.39M</td>\n",
       "      <td>4.69%</td>\n",
       "    </tr>\n",
       "    <tr>\n",
       "      <th>2</th>\n",
       "      <td>2021年7月28日</td>\n",
       "      <td>646.98</td>\n",
       "      <td>647.25</td>\n",
       "      <td>654.91</td>\n",
       "      <td>639.84</td>\n",
       "      <td>16.01M</td>\n",
       "      <td>0.34%</td>\n",
       "    </tr>\n",
       "    <tr>\n",
       "      <th>3</th>\n",
       "      <td>2021年7月27日</td>\n",
       "      <td>644.78</td>\n",
       "      <td>663.00</td>\n",
       "      <td>666.31</td>\n",
       "      <td>627.27</td>\n",
       "      <td>32.81M</td>\n",
       "      <td>-1.95%</td>\n",
       "    </tr>\n",
       "    <tr>\n",
       "      <th>4</th>\n",
       "      <td>2021年7月26日</td>\n",
       "      <td>657.62</td>\n",
       "      <td>650.24</td>\n",
       "      <td>668.16</td>\n",
       "      <td>647.11</td>\n",
       "      <td>25.34M</td>\n",
       "      <td>2.21%</td>\n",
       "    </tr>\n",
       "    <tr>\n",
       "      <th>...</th>\n",
       "      <td>...</td>\n",
       "      <td>...</td>\n",
       "      <td>...</td>\n",
       "      <td>...</td>\n",
       "      <td>...</td>\n",
       "      <td>...</td>\n",
       "      <td>...</td>\n",
       "    </tr>\n",
       "    <tr>\n",
       "      <th>353</th>\n",
       "      <td>2020年3月6日</td>\n",
       "      <td>140.70</td>\n",
       "      <td>138.00</td>\n",
       "      <td>141.40</td>\n",
       "      <td>136.85</td>\n",
       "      <td>63.31M</td>\n",
       "      <td>-2.91%</td>\n",
       "    </tr>\n",
       "    <tr>\n",
       "      <th>354</th>\n",
       "      <td>2020年3月5日</td>\n",
       "      <td>144.91</td>\n",
       "      <td>144.75</td>\n",
       "      <td>149.15</td>\n",
       "      <td>143.61</td>\n",
       "      <td>54.26M</td>\n",
       "      <td>-3.33%</td>\n",
       "    </tr>\n",
       "    <tr>\n",
       "      <th>355</th>\n",
       "      <td>2020年3月4日</td>\n",
       "      <td>149.90</td>\n",
       "      <td>152.79</td>\n",
       "      <td>153.30</td>\n",
       "      <td>144.95</td>\n",
       "      <td>75.24M</td>\n",
       "      <td>0.54%</td>\n",
       "    </tr>\n",
       "    <tr>\n",
       "      <th>356</th>\n",
       "      <td>2020年3月3日</td>\n",
       "      <td>149.10</td>\n",
       "      <td>161.00</td>\n",
       "      <td>161.40</td>\n",
       "      <td>143.22</td>\n",
       "      <td>128.92M</td>\n",
       "      <td>0.26%</td>\n",
       "    </tr>\n",
       "    <tr>\n",
       "      <th>357</th>\n",
       "      <td>2020年3月2日</td>\n",
       "      <td>148.72</td>\n",
       "      <td>142.25</td>\n",
       "      <td>148.74</td>\n",
       "      <td>137.33</td>\n",
       "      <td>100.97M</td>\n",
       "      <td>11.32%</td>\n",
       "    </tr>\n",
       "  </tbody>\n",
       "</table>\n",
       "<p>358 rows × 7 columns</p>\n",
       "</div>"
      ],
      "text/plain": [
       "           Date   Close    Open    High     Low    count zhangdie\n",
       "0    2021年7月30日  687.20  671.76  697.53  669.00   29.66M    1.45%\n",
       "1    2021年7月29日  677.35  649.60  683.47  649.40   30.39M    4.69%\n",
       "2    2021年7月28日  646.98  647.25  654.91  639.84   16.01M    0.34%\n",
       "3    2021年7月27日  644.78  663.00  666.31  627.27   32.81M   -1.95%\n",
       "4    2021年7月26日  657.62  650.24  668.16  647.11   25.34M    2.21%\n",
       "..          ...     ...     ...     ...     ...      ...      ...\n",
       "353   2020年3月6日  140.70  138.00  141.40  136.85   63.31M   -2.91%\n",
       "354   2020年3月5日  144.91  144.75  149.15  143.61   54.26M   -3.33%\n",
       "355   2020年3月4日  149.90  152.79  153.30  144.95   75.24M    0.54%\n",
       "356   2020年3月3日  149.10  161.00  161.40  143.22  128.92M    0.26%\n",
       "357   2020年3月2日  148.72  142.25  148.74  137.33  100.97M   11.32%\n",
       "\n",
       "[358 rows x 7 columns]"
      ]
     },
     "execution_count": 3,
     "metadata": {},
     "output_type": "execute_result"
    }
   ],
   "source": [
    "dataset = pd.read_csv('TSLA.csv',encoding='utf8')\n",
    "dataset # 导入TSLA的股票数据"
   ]
  },
  {
   "cell_type": "code",
   "execution_count": 5,
   "metadata": {
    "ExecuteTime": {
     "end_time": "2021-08-13T15:14:09.493991Z",
     "start_time": "2021-08-13T15:14:09.474043Z"
    }
   },
   "outputs": [],
   "source": [
    "# 清除掉NAN值\n",
    "dataset = dataset.dropna()\n",
    "dataset = dataset[['Open', 'High', 'Low', 'Close']]"
   ]
  },
  {
   "cell_type": "code",
   "execution_count": 8,
   "metadata": {
    "ExecuteTime": {
     "end_time": "2021-08-13T15:14:42.024078Z",
     "start_time": "2021-08-13T15:14:41.998124Z"
    }
   },
   "outputs": [],
   "source": [
    "# 计算 最高价与最低价之差，开盘价与收盘价之差，3天移动平均线，10天移动平均线，\n",
    "#     30天移动平均线，5天内平均方差。相对强弱指数，威廉指标\n",
    "import talib  # 导入talib库  安装需离线下载whl文件进行安装\n",
    "dataset['H-L'] = dataset['High'] - dataset['Low']\n",
    "dataset['O-C'] = dataset['Close'] - dataset['Open']\n",
    "dataset['3day MA'] = dataset['Close'].shift(1).rolling(window = 3).mean()\n",
    "dataset['10day MA'] = dataset['Close'].shift(1).rolling(window = 10).mean()\n",
    "dataset['30day MA'] = dataset['Close'].shift(1).rolling(window = 30).mean()\n",
    "dataset['Std_dev']= dataset['Close'].rolling(5).std()\n",
    "dataset['RSI'] = talib.RSI(dataset['Close'].values, timeperiod = 9)\n",
    "dataset['Williams %R'] = talib.WILLR(dataset['High'].values, dataset['Low'].values, dataset['Close'].values, 7)"
   ]
  },
  {
   "cell_type": "code",
   "execution_count": 9,
   "metadata": {
    "ExecuteTime": {
     "end_time": "2021-08-13T15:14:54.709151Z",
     "start_time": "2021-08-13T15:14:54.691199Z"
    }
   },
   "outputs": [],
   "source": [
    "#  股票是否上涨\n",
    "dataset['Price_Rise'] = np.where(dataset['Close'].shift(-1) > dataset['Close'], 1, 0)"
   ]
  },
  {
   "cell_type": "code",
   "execution_count": 10,
   "metadata": {
    "ExecuteTime": {
     "end_time": "2021-08-13T15:15:03.875351Z",
     "start_time": "2021-08-13T15:15:03.864380Z"
    }
   },
   "outputs": [],
   "source": [
    "# 用 dropna() 函数丢弃所有包含 NaN 值的行\n",
    "dataset = dataset.dropna()"
   ]
  },
  {
   "cell_type": "code",
   "execution_count": 12,
   "metadata": {
    "ExecuteTime": {
     "end_time": "2021-08-13T15:15:33.599034Z",
     "start_time": "2021-08-13T15:15:33.592054Z"
    }
   },
   "outputs": [],
   "source": [
    "# 创建两个数据帧“X”和“y”，存储输入和输出变量。数据帧“X”存储输入特征，\n",
    "# 它的列从数据集的第 5 列（索引 4）开始一直到倒数第 2 列。\n",
    "# 最后一列会存储在数据帧“y”中，它是我们想要预测的值，也就是股价涨幅。\n",
    "X = dataset.iloc[:, 4:-1]\n",
    "y = dataset.iloc[:, -1]"
   ]
  },
  {
   "cell_type": "code",
   "execution_count": 13,
   "metadata": {
    "ExecuteTime": {
     "end_time": "2021-08-13T15:15:39.830353Z",
     "start_time": "2021-08-13T15:15:39.824370Z"
    }
   },
   "outputs": [],
   "source": [
    "# 拆分数据集\n",
    "split = int(len(dataset)*0.8)\n",
    "X_train, X_test, y_train, y_test = X[:split], X[split:], y[:split], y[split:]"
   ]
  },
  {
   "cell_type": "code",
   "execution_count": 14,
   "metadata": {
    "ExecuteTime": {
     "end_time": "2021-08-13T15:16:01.547695Z",
     "start_time": "2021-08-13T15:15:59.727554Z"
    }
   },
   "outputs": [],
   "source": [
    "# 特征缩放\n",
    "from sklearn.preprocessing import StandardScaler\n",
    "sc = StandardScaler()\n",
    "X_train = sc.fit_transform(X_train)\n",
    "X_test = sc.transform(X_test)"
   ]
  },
  {
   "cell_type": "code",
   "execution_count": 15,
   "metadata": {
    "ExecuteTime": {
     "end_time": "2021-08-13T15:16:30.468573Z",
     "start_time": "2021-08-13T15:16:30.433659Z"
    }
   },
   "outputs": [],
   "source": [
    "# 搭建神经网络  导入需要的库\n",
    "from keras.models import Sequential\n",
    "from keras.layers import Dense\n",
    "from keras.layers import Dropout"
   ]
  },
  {
   "cell_type": "code",
   "execution_count": 16,
   "metadata": {
    "ExecuteTime": {
     "end_time": "2021-08-13T15:16:35.824616Z",
     "start_time": "2021-08-13T15:16:35.237238Z"
    }
   },
   "outputs": [],
   "source": [
    "# 将 Sequential() 函数实例化为变量分类器\n",
    "classifier = Sequential()"
   ]
  },
  {
   "cell_type": "code",
   "execution_count": 17,
   "metadata": {
    "ExecuteTime": {
     "end_time": "2021-08-13T15:16:42.998523Z",
     "start_time": "2021-08-13T15:16:42.780100Z"
    }
   },
   "outputs": [],
   "source": [
    "# 利用 add() 函数为分类器添加层，add() 函数的实参（argument）是Dense()函数，它有以下实参：\n",
    "# Units：它定义了某一层中的节点或神经元的数量。我们这里将值设为 128，也就是说我们的隐藏层中会有 128 个神经元。\n",
    "# Kernel_initializer：它定义了隐藏层中不同神经元权重的起始值。我们这里将它定义为“uniform”，意味着会用均匀分配的值初始化所有权重。\n",
    "# Activation：它是隐藏层中神经元的激活函数，这里我们将激活函数定义为修正线性单元函数。\n",
    "# Input_dim：它定义了输入到隐藏层中的输入数量，我们将输入数量值定义为等于输入特征数据帧中的列的数量。不过在后面的层中不再需要该实参，因为模型知道前一个层中生成的多少输出。\n",
    "classifier.add(Dense(units = 128, kernel_initializer = 'uniform', activation = 'relu', input_dim = X.shape[1]))"
   ]
  },
  {
   "cell_type": "code",
   "execution_count": 18,
   "metadata": {
    "ExecuteTime": {
     "end_time": "2021-08-13T15:17:11.359095Z",
     "start_time": "2021-08-13T15:17:11.327144Z"
    }
   },
   "outputs": [],
   "source": [
    "# 再添加一个层，128 个神经元，具有权重一致的 kernel_initializer，激活函数为修正线性单元。在这个神经网络中我们只搭建两个隐藏层。\n",
    "classifier.add(Dense(units = 128, kernel_initializer = 'uniform', activation = 'relu'))"
   ]
  },
  {
   "cell_type": "code",
   "execution_count": 19,
   "metadata": {
    "ExecuteTime": {
     "end_time": "2021-08-13T15:17:19.102388Z",
     "start_time": "2021-08-13T15:17:19.077456Z"
    }
   },
   "outputs": [],
   "source": [
    "# 搭建输出层，只需要一个输出，因此 Units 设为 1，将 S 型函数选为激活函数，因为我们想要预测股市变动的概率。\n",
    "classifier.add(Dense(units = 1, kernel_initializer = 'uniform', activation = 'sigmoid'))"
   ]
  },
  {
   "cell_type": "code",
   "execution_count": 20,
   "metadata": {
    "ExecuteTime": {
     "end_time": "2021-08-13T15:17:29.070848Z",
     "start_time": "2021-08-13T15:17:29.038927Z"
    }
   },
   "outputs": [],
   "source": [
    "# 最后传入以下实参来编译分类器：\n",
    "    # Optimizer：将 optimizer 选为“Adam”，它是随机梯度下降算法的一种扩展形式。\n",
    "    # Loss：它会定义训练过程中的需要优化的损失，我们将 loss 定义为均方误差。\n",
    "    # Metrics：它定义模型在训练和测试期间评估的矩阵。我们选择准确率为模型的评估矩阵。\n",
    "classifier.compile(optimizer = 'adam', loss = 'mean_squared_error', metrics = ['accuracy'])"
   ]
  },
  {
   "cell_type": "code",
   "execution_count": 21,
   "metadata": {
    "ExecuteTime": {
     "end_time": "2021-08-13T15:17:43.714564Z",
     "start_time": "2021-08-13T15:17:36.696326Z"
    }
   },
   "outputs": [
    {
     "name": "stdout",
     "output_type": "stream",
     "text": [
      "Epoch 1/100\n",
      "27/27 [==============================] - 0s 1ms/step - loss: 0.2442 - accuracy: 0.6985\n",
      "Epoch 2/100\n",
      "27/27 [==============================] - 0s 2ms/step - loss: 0.2067 - accuracy: 0.7405\n",
      "Epoch 3/100\n",
      "27/27 [==============================] - 0s 2ms/step - loss: 0.1545 - accuracy: 0.8130\n",
      "Epoch 4/100\n",
      "27/27 [==============================] - 0s 3ms/step - loss: 0.1387 - accuracy: 0.8168\n",
      "Epoch 5/100\n",
      "27/27 [==============================] - 0s 3ms/step - loss: 0.1329 - accuracy: 0.8244\n",
      "Epoch 6/100\n",
      "27/27 [==============================] - 0s 3ms/step - loss: 0.1336 - accuracy: 0.8168\n",
      "Epoch 7/100\n",
      "27/27 [==============================] - 0s 3ms/step - loss: 0.1290 - accuracy: 0.8321\n",
      "Epoch 8/100\n",
      "27/27 [==============================] - 0s 2ms/step - loss: 0.1331 - accuracy: 0.8168\n",
      "Epoch 9/100\n",
      "27/27 [==============================] - 0s 2ms/step - loss: 0.1317 - accuracy: 0.8397\n",
      "Epoch 10/100\n",
      "27/27 [==============================] - 0s 2ms/step - loss: 0.1275 - accuracy: 0.8511\n",
      "Epoch 11/100\n",
      "27/27 [==============================] - 0s 2ms/step - loss: 0.1299 - accuracy: 0.8321\n",
      "Epoch 12/100\n",
      "27/27 [==============================] - 0s 2ms/step - loss: 0.1235 - accuracy: 0.8397\n",
      "Epoch 13/100\n",
      "27/27 [==============================] - 0s 2ms/step - loss: 0.1256 - accuracy: 0.8397\n",
      "Epoch 14/100\n",
      "27/27 [==============================] - 0s 2ms/step - loss: 0.1277 - accuracy: 0.8130\n",
      "Epoch 15/100\n",
      "27/27 [==============================] - 0s 2ms/step - loss: 0.1279 - accuracy: 0.8282\n",
      "Epoch 16/100\n",
      "27/27 [==============================] - 0s 2ms/step - loss: 0.1222 - accuracy: 0.8321\n",
      "Epoch 17/100\n",
      "27/27 [==============================] - 0s 3ms/step - loss: 0.1223 - accuracy: 0.8359\n",
      "Epoch 18/100\n",
      "27/27 [==============================] - 0s 2ms/step - loss: 0.1238 - accuracy: 0.8397\n",
      "Epoch 19/100\n",
      "27/27 [==============================] - 0s 3ms/step - loss: 0.1232 - accuracy: 0.8282\n",
      "Epoch 20/100\n",
      "27/27 [==============================] - 0s 3ms/step - loss: 0.1210 - accuracy: 0.8397\n",
      "Epoch 21/100\n",
      "27/27 [==============================] - 0s 3ms/step - loss: 0.1203 - accuracy: 0.8435\n",
      "Epoch 22/100\n",
      "27/27 [==============================] - 0s 2ms/step - loss: 0.1247 - accuracy: 0.8244\n",
      "Epoch 23/100\n",
      "27/27 [==============================] - 0s 2ms/step - loss: 0.1258 - accuracy: 0.8435\n",
      "Epoch 24/100\n",
      "27/27 [==============================] - 0s 2ms/step - loss: 0.1193 - accuracy: 0.8435\n",
      "Epoch 25/100\n",
      "27/27 [==============================] - 0s 2ms/step - loss: 0.1178 - accuracy: 0.8435\n",
      "Epoch 26/100\n",
      "27/27 [==============================] - 0s 2ms/step - loss: 0.1184 - accuracy: 0.8435\n",
      "Epoch 27/100\n",
      "27/27 [==============================] - 0s 2ms/step - loss: 0.1204 - accuracy: 0.8321\n",
      "Epoch 28/100\n",
      "27/27 [==============================] - 0s 3ms/step - loss: 0.1157 - accuracy: 0.8435\n",
      "Epoch 29/100\n",
      "27/27 [==============================] - 0s 3ms/step - loss: 0.1201 - accuracy: 0.8397\n",
      "Epoch 30/100\n",
      "27/27 [==============================] - 0s 2ms/step - loss: 0.1150 - accuracy: 0.8435\n",
      "Epoch 31/100\n",
      "27/27 [==============================] - 0s 2ms/step - loss: 0.1180 - accuracy: 0.8511\n",
      "Epoch 32/100\n",
      "27/27 [==============================] - 0s 2ms/step - loss: 0.1177 - accuracy: 0.8550\n",
      "Epoch 33/100\n",
      "27/27 [==============================] - 0s 2ms/step - loss: 0.1145 - accuracy: 0.8359\n",
      "Epoch 34/100\n",
      "27/27 [==============================] - ETA: 0s - loss: 0.0562 - accuracy: 0.90 - 0s 2ms/step - loss: 0.1208 - accuracy: 0.8473\n",
      "Epoch 35/100\n",
      "27/27 [==============================] - 0s 2ms/step - loss: 0.1171 - accuracy: 0.8550\n",
      "Epoch 36/100\n",
      "27/27 [==============================] - 0s 2ms/step - loss: 0.1130 - accuracy: 0.8588\n",
      "Epoch 37/100\n",
      "27/27 [==============================] - 0s 2ms/step - loss: 0.1128 - accuracy: 0.8473\n",
      "Epoch 38/100\n",
      "27/27 [==============================] - 0s 2ms/step - loss: 0.1111 - accuracy: 0.8626\n",
      "Epoch 39/100\n",
      "27/27 [==============================] - 0s 2ms/step - loss: 0.1152 - accuracy: 0.8626\n",
      "Epoch 40/100\n",
      "27/27 [==============================] - 0s 2ms/step - loss: 0.1120 - accuracy: 0.8435\n",
      "Epoch 41/100\n",
      "27/27 [==============================] - 0s 2ms/step - loss: 0.1130 - accuracy: 0.8626\n",
      "Epoch 42/100\n",
      "27/27 [==============================] - 0s 1ms/step - loss: 0.1097 - accuracy: 0.8588\n",
      "Epoch 43/100\n",
      "27/27 [==============================] - 0s 1ms/step - loss: 0.1101 - accuracy: 0.8664\n",
      "Epoch 44/100\n",
      "27/27 [==============================] - 0s 1ms/step - loss: 0.1074 - accuracy: 0.8664\n",
      "Epoch 45/100\n",
      "27/27 [==============================] - 0s 1ms/step - loss: 0.1115 - accuracy: 0.8511\n",
      "Epoch 46/100\n",
      "27/27 [==============================] - 0s 1ms/step - loss: 0.1150 - accuracy: 0.8397\n",
      "Epoch 47/100\n",
      "27/27 [==============================] - 0s 2ms/step - loss: 0.1088 - accuracy: 0.8473\n",
      "Epoch 48/100\n",
      "27/27 [==============================] - 0s 2ms/step - loss: 0.1136 - accuracy: 0.8473\n",
      "Epoch 49/100\n",
      "27/27 [==============================] - 0s 1ms/step - loss: 0.1055 - accuracy: 0.8626\n",
      "Epoch 50/100\n",
      "27/27 [==============================] - 0s 1ms/step - loss: 0.1026 - accuracy: 0.8664\n",
      "Epoch 51/100\n",
      "27/27 [==============================] - 0s 2ms/step - loss: 0.1036 - accuracy: 0.8702\n",
      "Epoch 52/100\n",
      "27/27 [==============================] - 0s 2ms/step - loss: 0.1068 - accuracy: 0.8626\n",
      "Epoch 53/100\n",
      "27/27 [==============================] - 0s 2ms/step - loss: 0.1031 - accuracy: 0.8740\n",
      "Epoch 54/100\n",
      "27/27 [==============================] - 0s 2ms/step - loss: 0.1040 - accuracy: 0.8626\n",
      "Epoch 55/100\n",
      "27/27 [==============================] - 0s 1ms/step - loss: 0.1080 - accuracy: 0.8550\n",
      "Epoch 56/100\n",
      "27/27 [==============================] - 0s 1ms/step - loss: 0.1043 - accuracy: 0.8550\n",
      "Epoch 57/100\n",
      "27/27 [==============================] - 0s 2ms/step - loss: 0.1045 - accuracy: 0.8664\n",
      "Epoch 58/100\n",
      "27/27 [==============================] - 0s 2ms/step - loss: 0.1030 - accuracy: 0.8740\n",
      "Epoch 59/100\n",
      "27/27 [==============================] - 0s 2ms/step - loss: 0.1020 - accuracy: 0.8740\n",
      "Epoch 60/100\n",
      "27/27 [==============================] - 0s 2ms/step - loss: 0.1000 - accuracy: 0.8664\n",
      "Epoch 61/100\n",
      "27/27 [==============================] - 0s 2ms/step - loss: 0.0952 - accuracy: 0.8779\n",
      "Epoch 62/100\n",
      "27/27 [==============================] - 0s 2ms/step - loss: 0.1008 - accuracy: 0.8740\n",
      "Epoch 63/100\n",
      "27/27 [==============================] - 0s 2ms/step - loss: 0.0979 - accuracy: 0.8626\n",
      "Epoch 64/100\n",
      "27/27 [==============================] - 0s 2ms/step - loss: 0.0966 - accuracy: 0.8855\n",
      "Epoch 65/100\n",
      "27/27 [==============================] - 0s 2ms/step - loss: 0.0988 - accuracy: 0.8702\n",
      "Epoch 66/100\n",
      "27/27 [==============================] - 0s 2ms/step - loss: 0.0922 - accuracy: 0.8931\n",
      "Epoch 67/100\n",
      "27/27 [==============================] - 0s 2ms/step - loss: 0.0884 - accuracy: 0.8817\n",
      "Epoch 68/100\n",
      "27/27 [==============================] - 0s 2ms/step - loss: 0.1016 - accuracy: 0.8702\n",
      "Epoch 69/100\n",
      "27/27 [==============================] - 0s 2ms/step - loss: 0.0921 - accuracy: 0.8893\n",
      "Epoch 70/100\n",
      "27/27 [==============================] - 0s 2ms/step - loss: 0.0951 - accuracy: 0.8664\n",
      "Epoch 71/100\n",
      "27/27 [==============================] - 0s 2ms/step - loss: 0.0900 - accuracy: 0.8779\n",
      "Epoch 72/100\n",
      "27/27 [==============================] - 0s 2ms/step - loss: 0.0936 - accuracy: 0.8779\n",
      "Epoch 73/100\n",
      "27/27 [==============================] - 0s 2ms/step - loss: 0.0861 - accuracy: 0.8893\n",
      "Epoch 74/100\n",
      "27/27 [==============================] - 0s 2ms/step - loss: 0.0974 - accuracy: 0.8664\n",
      "Epoch 75/100\n",
      "27/27 [==============================] - 0s 1ms/step - loss: 0.0932 - accuracy: 0.8664\n",
      "Epoch 76/100\n",
      "27/27 [==============================] - 0s 2ms/step - loss: 0.0891 - accuracy: 0.8969\n",
      "Epoch 77/100\n",
      "27/27 [==============================] - 0s 1ms/step - loss: 0.0913 - accuracy: 0.8740\n",
      "Epoch 78/100\n",
      "27/27 [==============================] - 0s 2ms/step - loss: 0.1008 - accuracy: 0.8626\n",
      "Epoch 79/100\n",
      "27/27 [==============================] - 0s 2ms/step - loss: 0.0888 - accuracy: 0.8779\n",
      "Epoch 80/100\n",
      "27/27 [==============================] - 0s 2ms/step - loss: 0.0895 - accuracy: 0.8817\n",
      "Epoch 81/100\n",
      "27/27 [==============================] - 0s 2ms/step - loss: 0.0907 - accuracy: 0.8702\n",
      "Epoch 82/100\n",
      "27/27 [==============================] - 0s 1ms/step - loss: 0.0845 - accuracy: 0.8969\n",
      "Epoch 83/100\n",
      "27/27 [==============================] - 0s 2ms/step - loss: 0.0832 - accuracy: 0.8969\n",
      "Epoch 84/100\n",
      "27/27 [==============================] - 0s 1ms/step - loss: 0.0906 - accuracy: 0.8740\n",
      "Epoch 85/100\n",
      "27/27 [==============================] - 0s 2ms/step - loss: 0.0867 - accuracy: 0.8855\n",
      "Epoch 86/100\n",
      "27/27 [==============================] - 0s 2ms/step - loss: 0.0842 - accuracy: 0.8931\n",
      "Epoch 87/100\n",
      "27/27 [==============================] - 0s 2ms/step - loss: 0.0830 - accuracy: 0.8893\n",
      "Epoch 88/100\n",
      "27/27 [==============================] - 0s 2ms/step - loss: 0.0780 - accuracy: 0.8931\n",
      "Epoch 89/100\n",
      "27/27 [==============================] - 0s 2ms/step - loss: 0.0767 - accuracy: 0.9084\n",
      "Epoch 90/100\n",
      "27/27 [==============================] - 0s 1ms/step - loss: 0.0812 - accuracy: 0.8855\n",
      "Epoch 91/100\n",
      "27/27 [==============================] - 0s 2ms/step - loss: 0.0787 - accuracy: 0.8893\n",
      "Epoch 92/100\n",
      "27/27 [==============================] - 0s 1ms/step - loss: 0.0755 - accuracy: 0.9046\n",
      "Epoch 93/100\n",
      "27/27 [==============================] - 0s 1ms/step - loss: 0.0782 - accuracy: 0.8931\n",
      "Epoch 94/100\n",
      "27/27 [==============================] - 0s 2ms/step - loss: 0.0755 - accuracy: 0.9084\n",
      "Epoch 95/100\n",
      "27/27 [==============================] - 0s 2ms/step - loss: 0.0743 - accuracy: 0.8969\n",
      "Epoch 96/100\n",
      "27/27 [==============================] - 0s 2ms/step - loss: 0.0719 - accuracy: 0.9198\n",
      "Epoch 97/100\n",
      "27/27 [==============================] - 0s 2ms/step - loss: 0.0808 - accuracy: 0.9008\n",
      "Epoch 98/100\n",
      "27/27 [==============================] - 0s 2ms/step - loss: 0.0783 - accuracy: 0.8969\n",
      "Epoch 99/100\n",
      "27/27 [==============================] - 0s 2ms/step - loss: 0.0872 - accuracy: 0.8855\n",
      "Epoch 100/100\n",
      "27/27 [==============================] - 0s 1ms/step - loss: 0.0799 - accuracy: 0.8969\n"
     ]
    },
    {
     "data": {
      "text/plain": [
       "<tensorflow.python.keras.callbacks.History at 0x29bc83c8550>"
      ]
     },
     "execution_count": 21,
     "metadata": {},
     "output_type": "execute_result"
    }
   ],
   "source": [
    "# 将创建的神经网络拟合到训练数据集中，通过向 fit() 函数中传入 X_train，y_train，批量大小和周期数量。\n",
    "# 批量大小是指模型在反向传播误差和修正权重之前用来计算误差的数据点。周期数是指用训练集训练模型的次数。\n",
    "classifier.fit(X_train, y_train, batch_size = 10, epochs = 100)  # batch_size 和epochs可以调节"
   ]
  },
  {
   "cell_type": "code",
   "execution_count": 22,
   "metadata": {
    "ExecuteTime": {
     "end_time": "2021-08-13T15:18:01.837197Z",
     "start_time": "2021-08-13T15:18:01.642710Z"
    }
   },
   "outputs": [],
   "source": [
    "# 预测股票动向\n",
    "y_pred = classifier.predict(X_test)\n",
    "y_pred = (y_pred > 0.5)"
   ]
  },
  {
   "cell_type": "code",
   "execution_count": 37,
   "metadata": {
    "ExecuteTime": {
     "end_time": "2021-08-13T15:51:24.949778Z",
     "start_time": "2021-08-13T15:51:24.922852Z"
    }
   },
   "outputs": [],
   "source": [
    "# 使用 predict() 函数做出预测。将 X_test 作为实参传入模型，将结果保存为一个变量，名为 y_pred。\n",
    "# 然后我们在 y_pred > 5 条件下将 y_pred 进行转换，保存二进制值。现在变量 y_pred 会根据预测值是否大于 0.5 保存为 Ture 或 False。\n",
    "dataset['y_pred'] = np.NaN\n",
    "dataset.iloc[(len(dataset) - len(y_pred)):,-1:] = y_pred\n",
    "trade_dataset = dataset.dropna()"
   ]
  },
  {
   "cell_type": "code",
   "execution_count": 38,
   "metadata": {
    "ExecuteTime": {
     "end_time": "2021-08-13T15:51:25.109543Z",
     "start_time": "2021-08-13T15:51:24.953766Z"
    }
   },
   "outputs": [
    {
     "name": "stderr",
     "output_type": "stream",
     "text": [
      "<ipython-input-38-0cc4737001f8>:5: SettingWithCopyWarning: \n",
      "A value is trying to be set on a copy of a slice from a DataFrame.\n",
      "Try using .loc[row_indexer,col_indexer] = value instead\n",
      "\n",
      "See the caveats in the documentation: https://pandas.pydata.org/pandas-docs/stable/user_guide/indexing.html#returning-a-view-versus-a-copy\n",
      "  trade_dataset['Tomorrows Returns'] = 0.\n",
      "<ipython-input-38-0cc4737001f8>:6: SettingWithCopyWarning: \n",
      "A value is trying to be set on a copy of a slice from a DataFrame.\n",
      "Try using .loc[row_indexer,col_indexer] = value instead\n",
      "\n",
      "See the caveats in the documentation: https://pandas.pydata.org/pandas-docs/stable/user_guide/indexing.html#returning-a-view-versus-a-copy\n",
      "  trade_dataset['Tomorrows Returns'] = np.log(trade_dataset['Close']/trade_dataset['Close'].shift(1))\n",
      "<ipython-input-38-0cc4737001f8>:7: SettingWithCopyWarning: \n",
      "A value is trying to be set on a copy of a slice from a DataFrame.\n",
      "Try using .loc[row_indexer,col_indexer] = value instead\n",
      "\n",
      "See the caveats in the documentation: https://pandas.pydata.org/pandas-docs/stable/user_guide/indexing.html#returning-a-view-versus-a-copy\n",
      "  trade_dataset['Tomorrows Returns'] = trade_dataset['Tomorrows Returns'].shift(-1)\n"
     ]
    }
   ],
   "source": [
    "# 市场收益\n",
    "# 创建一个新列命名为“Tomorrows Returns”，保存为值0。我们用十进法表示保存在新列中的浮点值。\n",
    "# 接下来，我们将其保存为当天的对数收益率，即昨天收盘价除以当天收盘价的对数。\n",
    "# 然后我们将这些值上移一个元素，这样第二天的收益会按照当天的股价进行保存。\n",
    "trade_dataset['Tomorrows Returns'] = 0.\n",
    "trade_dataset['Tomorrows Returns'] = np.log(trade_dataset['Close']/trade_dataset['Close'].shift(1))\n",
    "trade_dataset['Tomorrows Returns'] = trade_dataset['Tomorrows Returns'].shift(-1)"
   ]
  },
  {
   "cell_type": "code",
   "execution_count": 50,
   "metadata": {
    "ExecuteTime": {
     "end_time": "2021-08-13T15:53:04.869606Z",
     "start_time": "2021-08-13T15:53:04.859630Z"
    }
   },
   "outputs": [
    {
     "name": "stderr",
     "output_type": "stream",
     "text": [
      "<ipython-input-50-77660cc85d4a>:6: SettingWithCopyWarning: \n",
      "A value is trying to be set on a copy of a slice from a DataFrame.\n",
      "Try using .loc[row_indexer,col_indexer] = value instead\n",
      "\n",
      "See the caveats in the documentation: https://pandas.pydata.org/pandas-docs/stable/user_guide/indexing.html#returning-a-view-versus-a-copy\n",
      "  trade_dataset['Strategy Returns'] = 0.\n",
      "<ipython-input-50-77660cc85d4a>:7: SettingWithCopyWarning: \n",
      "A value is trying to be set on a copy of a slice from a DataFrame.\n",
      "Try using .loc[row_indexer,col_indexer] = value instead\n",
      "\n",
      "See the caveats in the documentation: https://pandas.pydata.org/pandas-docs/stable/user_guide/indexing.html#returning-a-view-versus-a-copy\n",
      "  trade_dataset['Strategy Returns'] = np.where(trade_dataset['y_pred'] == True, trade_dataset['Tomorrows Returns'], - trade_dataset['Tomorrows Returns'])\n"
     ]
    }
   ],
   "source": [
    "# 模型收益\n",
    "# 创建一个新列，标题为“Strategy_Returns”，以0.（表示存储浮点值）初始化它。\n",
    "# 使用 np.where() 函数，接着如果“y_pred”列为 True（多头交易），我们会将值保存在列“Tomorrow Returns”中，\n",
    "# 否则将在列“Tomorrow Returns”（空头交易）中的值的负值保存到列“Strategy_Returns”中。\n",
    "\n",
    "trade_dataset['Strategy Returns'] = 0.\n",
    "trade_dataset['Strategy Returns'] = np.where(trade_dataset['y_pred'] == True, trade_dataset['Tomorrows Returns'], - trade_dataset['Tomorrows Returns'])"
   ]
  },
  {
   "cell_type": "code",
   "execution_count": 51,
   "metadata": {
    "ExecuteTime": {
     "end_time": "2021-08-13T15:53:05.059103Z",
     "start_time": "2021-08-13T15:53:04.873593Z"
    }
   },
   "outputs": [
    {
     "name": "stderr",
     "output_type": "stream",
     "text": [
      "<ipython-input-51-912318ade53e>:2: SettingWithCopyWarning: \n",
      "A value is trying to be set on a copy of a slice from a DataFrame.\n",
      "Try using .loc[row_indexer,col_indexer] = value instead\n",
      "\n",
      "See the caveats in the documentation: https://pandas.pydata.org/pandas-docs/stable/user_guide/indexing.html#returning-a-view-versus-a-copy\n",
      "  trade_dataset['Cumulative Market Returns'] = np.cumsum(abs(trade_dataset['Tomorrows Returns']))\n",
      "<ipython-input-51-912318ade53e>:3: SettingWithCopyWarning: \n",
      "A value is trying to be set on a copy of a slice from a DataFrame.\n",
      "Try using .loc[row_indexer,col_indexer] = value instead\n",
      "\n",
      "See the caveats in the documentation: https://pandas.pydata.org/pandas-docs/stable/user_guide/indexing.html#returning-a-view-versus-a-copy\n",
      "  trade_dataset['Cumulative Strategy Returns'] = np.cumsum(trade_dataset['Strategy Returns'])\n"
     ]
    }
   ],
   "source": [
    "# 计算市场和模型的累计收益。使用 cumsum() 函数计算这些值。\n",
    "trade_dataset['Cumulative Market Returns'] = np.cumsum(abs(trade_dataset['Tomorrows Returns']))\n",
    "trade_dataset['Cumulative Strategy Returns'] = np.cumsum(trade_dataset['Strategy Returns'])"
   ]
  },
  {
   "cell_type": "code",
   "execution_count": 52,
   "metadata": {
    "ExecuteTime": {
     "end_time": "2021-08-13T15:53:05.625583Z",
     "start_time": "2021-08-13T15:53:05.065080Z"
    }
   },
   "outputs": [
    {
     "data": {
      "image/png": "[encoded data removed]",
      "text/plain": [
       "<Figure size 1152x720 with 1 Axes>"
      ]
     },
     "metadata": {
      "needs_background": "light"
     },
     "output_type": "display_data"
    }
   ],
   "source": [
    "# 用累计的和来绘制出上一步中市场收益和模型收益的走势图。\n",
    "import matplotlib.pyplot as plt\n",
    "plt.figure(figsize=(16,10))\n",
    "plt.plot(trade_dataset['Cumulative Market Returns'], color='r', label='Market Returns')\n",
    "plt.plot(trade_dataset['Cumulative Strategy Returns'], color='g', label='Strategy Returns')\n",
    "plt.legend()\n",
    "plt.show()"
   ]
  },
  {
   "cell_type": "code",
   "execution_count": 54,
   "metadata": {
    "ExecuteTime": {
     "end_time": "2021-08-13T15:53:46.552790Z",
     "start_time": "2021-08-13T15:53:46.433096Z"
    }
   },
   "outputs": [],
   "source": [
    "trade_dataset.to_csv('trade_dataset.csv',index=False)"
   ]
  },
  {
   "cell_type": "code",
   "execution_count": null,
   "metadata": {},
   "outputs": [],
   "source": []
  }
 ],
 "metadata": {
  "kernelspec": {
   "display_name": "Python 3",
   "language": "python",
   "name": "python3"
  },
  "language_info": {
   "codemirror_mode": {
    "name": "ipython",
    "version": 3
   },
   "file_extension": ".py",
   "mimetype": "text/x-python",
   "name": "python",
   "nbconvert_exporter": "python",
   "pygments_lexer": "ipython3",
   "version": "3.8.8"
  }
 },
 "nbformat": 4,
 "nbformat_minor": 4
}
